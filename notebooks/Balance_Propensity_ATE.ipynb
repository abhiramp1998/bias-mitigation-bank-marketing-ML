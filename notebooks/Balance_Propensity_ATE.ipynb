{
 "cells": [
  {
   "cell_type": "code",
   "execution_count": 146,
   "id": "6415a411-12e5-47d3-8bca-7f74539ccc44",
   "metadata": {},
   "outputs": [],
   "source": [
    "import pandas as pd\n",
    "import numpy as np\n",
    "import seaborn as sns\n",
    "import matplotlib.pyplot as plt\n",
    "from sklearn.model_selection import train_test_split"
   ]
  },
  {
   "cell_type": "code",
   "execution_count": 147,
   "id": "b7d4b4dc-9d34-4cf7-afcd-b544a5f56035",
   "metadata": {},
   "outputs": [],
   "source": [
    "df = pd.read_csv('../data/raw/bank/bank-full.csv', sep = ';')"
   ]
  },
  {
   "cell_type": "code",
   "execution_count": 148,
   "id": "ad9c7c98-c94f-40d0-8f62-f913610817cc",
   "metadata": {},
   "outputs": [
    {
     "data": {
      "text/html": [
       "<div>\n",
       "<style scoped>\n",
       "    .dataframe tbody tr th:only-of-type {\n",
       "        vertical-align: middle;\n",
       "    }\n",
       "\n",
       "    .dataframe tbody tr th {\n",
       "        vertical-align: top;\n",
       "    }\n",
       "\n",
       "    .dataframe thead th {\n",
       "        text-align: right;\n",
       "    }\n",
       "</style>\n",
       "<table border=\"1\" class=\"dataframe\">\n",
       "  <thead>\n",
       "    <tr style=\"text-align: right;\">\n",
       "      <th></th>\n",
       "      <th>age</th>\n",
       "      <th>job</th>\n",
       "      <th>marital</th>\n",
       "      <th>education</th>\n",
       "      <th>default</th>\n",
       "      <th>balance</th>\n",
       "      <th>housing</th>\n",
       "      <th>loan</th>\n",
       "      <th>contact</th>\n",
       "      <th>day</th>\n",
       "      <th>month</th>\n",
       "      <th>duration</th>\n",
       "      <th>campaign</th>\n",
       "      <th>pdays</th>\n",
       "      <th>previous</th>\n",
       "      <th>poutcome</th>\n",
       "      <th>y</th>\n",
       "    </tr>\n",
       "  </thead>\n",
       "  <tbody>\n",
       "    <tr>\n",
       "      <th>0</th>\n",
       "      <td>58</td>\n",
       "      <td>management</td>\n",
       "      <td>married</td>\n",
       "      <td>tertiary</td>\n",
       "      <td>no</td>\n",
       "      <td>2143</td>\n",
       "      <td>yes</td>\n",
       "      <td>no</td>\n",
       "      <td>unknown</td>\n",
       "      <td>5</td>\n",
       "      <td>may</td>\n",
       "      <td>261</td>\n",
       "      <td>1</td>\n",
       "      <td>-1</td>\n",
       "      <td>0</td>\n",
       "      <td>unknown</td>\n",
       "      <td>no</td>\n",
       "    </tr>\n",
       "    <tr>\n",
       "      <th>1</th>\n",
       "      <td>44</td>\n",
       "      <td>technician</td>\n",
       "      <td>single</td>\n",
       "      <td>secondary</td>\n",
       "      <td>no</td>\n",
       "      <td>29</td>\n",
       "      <td>yes</td>\n",
       "      <td>no</td>\n",
       "      <td>unknown</td>\n",
       "      <td>5</td>\n",
       "      <td>may</td>\n",
       "      <td>151</td>\n",
       "      <td>1</td>\n",
       "      <td>-1</td>\n",
       "      <td>0</td>\n",
       "      <td>unknown</td>\n",
       "      <td>no</td>\n",
       "    </tr>\n",
       "    <tr>\n",
       "      <th>2</th>\n",
       "      <td>33</td>\n",
       "      <td>entrepreneur</td>\n",
       "      <td>married</td>\n",
       "      <td>secondary</td>\n",
       "      <td>no</td>\n",
       "      <td>2</td>\n",
       "      <td>yes</td>\n",
       "      <td>yes</td>\n",
       "      <td>unknown</td>\n",
       "      <td>5</td>\n",
       "      <td>may</td>\n",
       "      <td>76</td>\n",
       "      <td>1</td>\n",
       "      <td>-1</td>\n",
       "      <td>0</td>\n",
       "      <td>unknown</td>\n",
       "      <td>no</td>\n",
       "    </tr>\n",
       "    <tr>\n",
       "      <th>3</th>\n",
       "      <td>47</td>\n",
       "      <td>blue-collar</td>\n",
       "      <td>married</td>\n",
       "      <td>unknown</td>\n",
       "      <td>no</td>\n",
       "      <td>1506</td>\n",
       "      <td>yes</td>\n",
       "      <td>no</td>\n",
       "      <td>unknown</td>\n",
       "      <td>5</td>\n",
       "      <td>may</td>\n",
       "      <td>92</td>\n",
       "      <td>1</td>\n",
       "      <td>-1</td>\n",
       "      <td>0</td>\n",
       "      <td>unknown</td>\n",
       "      <td>no</td>\n",
       "    </tr>\n",
       "    <tr>\n",
       "      <th>4</th>\n",
       "      <td>33</td>\n",
       "      <td>unknown</td>\n",
       "      <td>single</td>\n",
       "      <td>unknown</td>\n",
       "      <td>no</td>\n",
       "      <td>1</td>\n",
       "      <td>no</td>\n",
       "      <td>no</td>\n",
       "      <td>unknown</td>\n",
       "      <td>5</td>\n",
       "      <td>may</td>\n",
       "      <td>198</td>\n",
       "      <td>1</td>\n",
       "      <td>-1</td>\n",
       "      <td>0</td>\n",
       "      <td>unknown</td>\n",
       "      <td>no</td>\n",
       "    </tr>\n",
       "  </tbody>\n",
       "</table>\n",
       "</div>"
      ],
      "text/plain": [
       "   age           job  marital  education default  balance housing loan  \\\n",
       "0   58    management  married   tertiary      no     2143     yes   no   \n",
       "1   44    technician   single  secondary      no       29     yes   no   \n",
       "2   33  entrepreneur  married  secondary      no        2     yes  yes   \n",
       "3   47   blue-collar  married    unknown      no     1506     yes   no   \n",
       "4   33       unknown   single    unknown      no        1      no   no   \n",
       "\n",
       "   contact  day month  duration  campaign  pdays  previous poutcome   y  \n",
       "0  unknown    5   may       261         1     -1         0  unknown  no  \n",
       "1  unknown    5   may       151         1     -1         0  unknown  no  \n",
       "2  unknown    5   may        76         1     -1         0  unknown  no  \n",
       "3  unknown    5   may        92         1     -1         0  unknown  no  \n",
       "4  unknown    5   may       198         1     -1         0  unknown  no  "
      ]
     },
     "execution_count": 148,
     "metadata": {},
     "output_type": "execute_result"
    }
   ],
   "source": [
    "df.head()"
   ]
  },
  {
   "cell_type": "code",
   "execution_count": 149,
   "id": "fbb19691-5de7-462b-9b6d-dac8cf881de8",
   "metadata": {},
   "outputs": [
    {
     "data": {
      "text/html": [
       "<div>\n",
       "<style scoped>\n",
       "    .dataframe tbody tr th:only-of-type {\n",
       "        vertical-align: middle;\n",
       "    }\n",
       "\n",
       "    .dataframe tbody tr th {\n",
       "        vertical-align: top;\n",
       "    }\n",
       "\n",
       "    .dataframe thead th {\n",
       "        text-align: right;\n",
       "    }\n",
       "</style>\n",
       "<table border=\"1\" class=\"dataframe\">\n",
       "  <thead>\n",
       "    <tr style=\"text-align: right;\">\n",
       "      <th></th>\n",
       "      <th>age</th>\n",
       "      <th>job</th>\n",
       "      <th>marital</th>\n",
       "      <th>education</th>\n",
       "      <th>default</th>\n",
       "      <th>balance</th>\n",
       "      <th>housing</th>\n",
       "      <th>loan</th>\n",
       "      <th>contact</th>\n",
       "      <th>day</th>\n",
       "      <th>month</th>\n",
       "      <th>duration</th>\n",
       "      <th>campaign</th>\n",
       "      <th>pdays</th>\n",
       "      <th>previous</th>\n",
       "      <th>poutcome</th>\n",
       "      <th>y</th>\n",
       "    </tr>\n",
       "  </thead>\n",
       "  <tbody>\n",
       "    <tr>\n",
       "      <th>45206</th>\n",
       "      <td>51</td>\n",
       "      <td>technician</td>\n",
       "      <td>married</td>\n",
       "      <td>tertiary</td>\n",
       "      <td>no</td>\n",
       "      <td>825</td>\n",
       "      <td>no</td>\n",
       "      <td>no</td>\n",
       "      <td>cellular</td>\n",
       "      <td>17</td>\n",
       "      <td>nov</td>\n",
       "      <td>977</td>\n",
       "      <td>3</td>\n",
       "      <td>-1</td>\n",
       "      <td>0</td>\n",
       "      <td>unknown</td>\n",
       "      <td>yes</td>\n",
       "    </tr>\n",
       "    <tr>\n",
       "      <th>45207</th>\n",
       "      <td>71</td>\n",
       "      <td>retired</td>\n",
       "      <td>divorced</td>\n",
       "      <td>primary</td>\n",
       "      <td>no</td>\n",
       "      <td>1729</td>\n",
       "      <td>no</td>\n",
       "      <td>no</td>\n",
       "      <td>cellular</td>\n",
       "      <td>17</td>\n",
       "      <td>nov</td>\n",
       "      <td>456</td>\n",
       "      <td>2</td>\n",
       "      <td>-1</td>\n",
       "      <td>0</td>\n",
       "      <td>unknown</td>\n",
       "      <td>yes</td>\n",
       "    </tr>\n",
       "    <tr>\n",
       "      <th>45208</th>\n",
       "      <td>72</td>\n",
       "      <td>retired</td>\n",
       "      <td>married</td>\n",
       "      <td>secondary</td>\n",
       "      <td>no</td>\n",
       "      <td>5715</td>\n",
       "      <td>no</td>\n",
       "      <td>no</td>\n",
       "      <td>cellular</td>\n",
       "      <td>17</td>\n",
       "      <td>nov</td>\n",
       "      <td>1127</td>\n",
       "      <td>5</td>\n",
       "      <td>184</td>\n",
       "      <td>3</td>\n",
       "      <td>success</td>\n",
       "      <td>yes</td>\n",
       "    </tr>\n",
       "    <tr>\n",
       "      <th>45209</th>\n",
       "      <td>57</td>\n",
       "      <td>blue-collar</td>\n",
       "      <td>married</td>\n",
       "      <td>secondary</td>\n",
       "      <td>no</td>\n",
       "      <td>668</td>\n",
       "      <td>no</td>\n",
       "      <td>no</td>\n",
       "      <td>telephone</td>\n",
       "      <td>17</td>\n",
       "      <td>nov</td>\n",
       "      <td>508</td>\n",
       "      <td>4</td>\n",
       "      <td>-1</td>\n",
       "      <td>0</td>\n",
       "      <td>unknown</td>\n",
       "      <td>no</td>\n",
       "    </tr>\n",
       "    <tr>\n",
       "      <th>45210</th>\n",
       "      <td>37</td>\n",
       "      <td>entrepreneur</td>\n",
       "      <td>married</td>\n",
       "      <td>secondary</td>\n",
       "      <td>no</td>\n",
       "      <td>2971</td>\n",
       "      <td>no</td>\n",
       "      <td>no</td>\n",
       "      <td>cellular</td>\n",
       "      <td>17</td>\n",
       "      <td>nov</td>\n",
       "      <td>361</td>\n",
       "      <td>2</td>\n",
       "      <td>188</td>\n",
       "      <td>11</td>\n",
       "      <td>other</td>\n",
       "      <td>no</td>\n",
       "    </tr>\n",
       "  </tbody>\n",
       "</table>\n",
       "</div>"
      ],
      "text/plain": [
       "       age           job   marital  education default  balance housing loan  \\\n",
       "45206   51    technician   married   tertiary      no      825      no   no   \n",
       "45207   71       retired  divorced    primary      no     1729      no   no   \n",
       "45208   72       retired   married  secondary      no     5715      no   no   \n",
       "45209   57   blue-collar   married  secondary      no      668      no   no   \n",
       "45210   37  entrepreneur   married  secondary      no     2971      no   no   \n",
       "\n",
       "         contact  day month  duration  campaign  pdays  previous poutcome    y  \n",
       "45206   cellular   17   nov       977         3     -1         0  unknown  yes  \n",
       "45207   cellular   17   nov       456         2     -1         0  unknown  yes  \n",
       "45208   cellular   17   nov      1127         5    184         3  success  yes  \n",
       "45209  telephone   17   nov       508         4     -1         0  unknown   no  \n",
       "45210   cellular   17   nov       361         2    188        11    other   no  "
      ]
     },
     "execution_count": 149,
     "metadata": {},
     "output_type": "execute_result"
    }
   ],
   "source": [
    "df.tail()"
   ]
  },
  {
   "cell_type": "code",
   "execution_count": 150,
   "id": "5863ac4e-35d3-4683-b2e7-b8c30b76929f",
   "metadata": {},
   "outputs": [
    {
     "name": "stdout",
     "output_type": "stream",
     "text": [
      "<class 'pandas.core.frame.DataFrame'>\n",
      "RangeIndex: 45211 entries, 0 to 45210\n",
      "Data columns (total 17 columns):\n",
      " #   Column     Non-Null Count  Dtype \n",
      "---  ------     --------------  ----- \n",
      " 0   age        45211 non-null  int64 \n",
      " 1   job        45211 non-null  object\n",
      " 2   marital    45211 non-null  object\n",
      " 3   education  45211 non-null  object\n",
      " 4   default    45211 non-null  object\n",
      " 5   balance    45211 non-null  int64 \n",
      " 6   housing    45211 non-null  object\n",
      " 7   loan       45211 non-null  object\n",
      " 8   contact    45211 non-null  object\n",
      " 9   day        45211 non-null  int64 \n",
      " 10  month      45211 non-null  object\n",
      " 11  duration   45211 non-null  int64 \n",
      " 12  campaign   45211 non-null  int64 \n",
      " 13  pdays      45211 non-null  int64 \n",
      " 14  previous   45211 non-null  int64 \n",
      " 15  poutcome   45211 non-null  object\n",
      " 16  y          45211 non-null  object\n",
      "dtypes: int64(7), object(10)\n",
      "memory usage: 5.9+ MB\n"
     ]
    }
   ],
   "source": [
    "df.info()"
   ]
  },
  {
   "cell_type": "code",
   "execution_count": 151,
   "id": "f76c9789-b47c-4df6-ba74-7c067bac3575",
   "metadata": {},
   "outputs": [
    {
     "data": {
      "text/html": [
       "<div>\n",
       "<style scoped>\n",
       "    .dataframe tbody tr th:only-of-type {\n",
       "        vertical-align: middle;\n",
       "    }\n",
       "\n",
       "    .dataframe tbody tr th {\n",
       "        vertical-align: top;\n",
       "    }\n",
       "\n",
       "    .dataframe thead th {\n",
       "        text-align: right;\n",
       "    }\n",
       "</style>\n",
       "<table border=\"1\" class=\"dataframe\">\n",
       "  <thead>\n",
       "    <tr style=\"text-align: right;\">\n",
       "      <th></th>\n",
       "      <th>age</th>\n",
       "      <th>balance</th>\n",
       "      <th>day</th>\n",
       "      <th>duration</th>\n",
       "      <th>campaign</th>\n",
       "      <th>pdays</th>\n",
       "      <th>previous</th>\n",
       "    </tr>\n",
       "  </thead>\n",
       "  <tbody>\n",
       "    <tr>\n",
       "      <th>count</th>\n",
       "      <td>45211.000000</td>\n",
       "      <td>45211.000000</td>\n",
       "      <td>45211.000000</td>\n",
       "      <td>45211.000000</td>\n",
       "      <td>45211.000000</td>\n",
       "      <td>45211.000000</td>\n",
       "      <td>45211.000000</td>\n",
       "    </tr>\n",
       "    <tr>\n",
       "      <th>mean</th>\n",
       "      <td>40.936210</td>\n",
       "      <td>1362.272058</td>\n",
       "      <td>15.806419</td>\n",
       "      <td>258.163080</td>\n",
       "      <td>2.763841</td>\n",
       "      <td>40.197828</td>\n",
       "      <td>0.580323</td>\n",
       "    </tr>\n",
       "    <tr>\n",
       "      <th>std</th>\n",
       "      <td>10.618762</td>\n",
       "      <td>3044.765829</td>\n",
       "      <td>8.322476</td>\n",
       "      <td>257.527812</td>\n",
       "      <td>3.098021</td>\n",
       "      <td>100.128746</td>\n",
       "      <td>2.303441</td>\n",
       "    </tr>\n",
       "    <tr>\n",
       "      <th>min</th>\n",
       "      <td>18.000000</td>\n",
       "      <td>-8019.000000</td>\n",
       "      <td>1.000000</td>\n",
       "      <td>0.000000</td>\n",
       "      <td>1.000000</td>\n",
       "      <td>-1.000000</td>\n",
       "      <td>0.000000</td>\n",
       "    </tr>\n",
       "    <tr>\n",
       "      <th>25%</th>\n",
       "      <td>33.000000</td>\n",
       "      <td>72.000000</td>\n",
       "      <td>8.000000</td>\n",
       "      <td>103.000000</td>\n",
       "      <td>1.000000</td>\n",
       "      <td>-1.000000</td>\n",
       "      <td>0.000000</td>\n",
       "    </tr>\n",
       "    <tr>\n",
       "      <th>50%</th>\n",
       "      <td>39.000000</td>\n",
       "      <td>448.000000</td>\n",
       "      <td>16.000000</td>\n",
       "      <td>180.000000</td>\n",
       "      <td>2.000000</td>\n",
       "      <td>-1.000000</td>\n",
       "      <td>0.000000</td>\n",
       "    </tr>\n",
       "    <tr>\n",
       "      <th>75%</th>\n",
       "      <td>48.000000</td>\n",
       "      <td>1428.000000</td>\n",
       "      <td>21.000000</td>\n",
       "      <td>319.000000</td>\n",
       "      <td>3.000000</td>\n",
       "      <td>-1.000000</td>\n",
       "      <td>0.000000</td>\n",
       "    </tr>\n",
       "    <tr>\n",
       "      <th>max</th>\n",
       "      <td>95.000000</td>\n",
       "      <td>102127.000000</td>\n",
       "      <td>31.000000</td>\n",
       "      <td>4918.000000</td>\n",
       "      <td>63.000000</td>\n",
       "      <td>871.000000</td>\n",
       "      <td>275.000000</td>\n",
       "    </tr>\n",
       "  </tbody>\n",
       "</table>\n",
       "</div>"
      ],
      "text/plain": [
       "                age        balance           day      duration      campaign  \\\n",
       "count  45211.000000   45211.000000  45211.000000  45211.000000  45211.000000   \n",
       "mean      40.936210    1362.272058     15.806419    258.163080      2.763841   \n",
       "std       10.618762    3044.765829      8.322476    257.527812      3.098021   \n",
       "min       18.000000   -8019.000000      1.000000      0.000000      1.000000   \n",
       "25%       33.000000      72.000000      8.000000    103.000000      1.000000   \n",
       "50%       39.000000     448.000000     16.000000    180.000000      2.000000   \n",
       "75%       48.000000    1428.000000     21.000000    319.000000      3.000000   \n",
       "max       95.000000  102127.000000     31.000000   4918.000000     63.000000   \n",
       "\n",
       "              pdays      previous  \n",
       "count  45211.000000  45211.000000  \n",
       "mean      40.197828      0.580323  \n",
       "std      100.128746      2.303441  \n",
       "min       -1.000000      0.000000  \n",
       "25%       -1.000000      0.000000  \n",
       "50%       -1.000000      0.000000  \n",
       "75%       -1.000000      0.000000  \n",
       "max      871.000000    275.000000  "
      ]
     },
     "execution_count": 151,
     "metadata": {},
     "output_type": "execute_result"
    }
   ],
   "source": [
    "df.describe()"
   ]
  },
  {
   "cell_type": "code",
   "execution_count": 152,
   "id": "665ebedc-ecb2-4f2b-bc21-9808a323b47d",
   "metadata": {},
   "outputs": [
    {
     "name": "stdout",
     "output_type": "stream",
     "text": [
      "0\n"
     ]
    }
   ],
   "source": [
    "print(df.duplicated().sum())"
   ]
  },
  {
   "cell_type": "code",
   "execution_count": 153,
   "id": "ac93e47d-6503-49ac-b016-5e2ee188f4ec",
   "metadata": {},
   "outputs": [],
   "source": [
    "dup = df[df.duplicated()]"
   ]
  },
  {
   "cell_type": "code",
   "execution_count": 154,
   "id": "8f79cb3f-2f07-4f6f-bd7b-70cf297173b5",
   "metadata": {},
   "outputs": [
    {
     "data": {
      "text/html": [
       "<div>\n",
       "<style scoped>\n",
       "    .dataframe tbody tr th:only-of-type {\n",
       "        vertical-align: middle;\n",
       "    }\n",
       "\n",
       "    .dataframe tbody tr th {\n",
       "        vertical-align: top;\n",
       "    }\n",
       "\n",
       "    .dataframe thead th {\n",
       "        text-align: right;\n",
       "    }\n",
       "</style>\n",
       "<table border=\"1\" class=\"dataframe\">\n",
       "  <thead>\n",
       "    <tr style=\"text-align: right;\">\n",
       "      <th></th>\n",
       "      <th>age</th>\n",
       "      <th>job</th>\n",
       "      <th>marital</th>\n",
       "      <th>education</th>\n",
       "      <th>default</th>\n",
       "      <th>balance</th>\n",
       "      <th>housing</th>\n",
       "      <th>loan</th>\n",
       "      <th>contact</th>\n",
       "      <th>day</th>\n",
       "      <th>month</th>\n",
       "      <th>duration</th>\n",
       "      <th>campaign</th>\n",
       "      <th>pdays</th>\n",
       "      <th>previous</th>\n",
       "      <th>poutcome</th>\n",
       "      <th>y</th>\n",
       "    </tr>\n",
       "  </thead>\n",
       "  <tbody>\n",
       "  </tbody>\n",
       "</table>\n",
       "</div>"
      ],
      "text/plain": [
       "Empty DataFrame\n",
       "Columns: [age, job, marital, education, default, balance, housing, loan, contact, day, month, duration, campaign, pdays, previous, poutcome, y]\n",
       "Index: []"
      ]
     },
     "execution_count": 154,
     "metadata": {},
     "output_type": "execute_result"
    }
   ],
   "source": [
    "dup"
   ]
  },
  {
   "cell_type": "code",
   "execution_count": 155,
   "id": "2271a6b2-f036-4429-813b-aa43db901177",
   "metadata": {},
   "outputs": [],
   "source": [
    "unknown_counts = (df == \"unknown\").sum()"
   ]
  },
  {
   "cell_type": "code",
   "execution_count": 156,
   "id": "fe585985-5851-4e95-b6b4-befbb5096cbb",
   "metadata": {},
   "outputs": [
    {
     "data": {
      "text/plain": [
       "age              0\n",
       "job            288\n",
       "marital          0\n",
       "education     1857\n",
       "default          0\n",
       "balance          0\n",
       "housing          0\n",
       "loan             0\n",
       "contact      13020\n",
       "day              0\n",
       "month            0\n",
       "duration         0\n",
       "campaign         0\n",
       "pdays            0\n",
       "previous         0\n",
       "poutcome     36959\n",
       "y                0\n",
       "dtype: int64"
      ]
     },
     "execution_count": 156,
     "metadata": {},
     "output_type": "execute_result"
    }
   ],
   "source": [
    "unknown_counts"
   ]
  },
  {
   "cell_type": "code",
   "execution_count": 157,
   "id": "ce348749-b2ba-4940-bf4f-b397d9f14c09",
   "metadata": {},
   "outputs": [
    {
     "data": {
      "text/plain": [
       "448.0"
      ]
     },
     "execution_count": 157,
     "metadata": {},
     "output_type": "execute_result"
    }
   ],
   "source": [
    "df['balance'].median()"
   ]
  },
  {
   "cell_type": "code",
   "execution_count": 158,
   "id": "b7a3b9bc-d053-447e-aa4b-8a5500e1642d",
   "metadata": {},
   "outputs": [
    {
     "name": "stdout",
     "output_type": "stream",
     "text": [
      "y\n",
      "no     39922\n",
      "yes     5289\n",
      "Name: count, dtype: int64\n"
     ]
    },
    {
     "data": {
      "text/plain": [
       "<Axes: xlabel='y', ylabel='count'>"
      ]
     },
     "execution_count": 158,
     "metadata": {},
     "output_type": "execute_result"
    },
    {
     "data": {
      "image/png": "[encoded data removed]",
      "text/plain": [
       "<Figure size 640x480 with 1 Axes>"
      ]
     },
     "metadata": {},
     "output_type": "display_data"
    }
   ],
   "source": [
    "class_counts = df['y'].value_counts()\n",
    "print(class_counts)\n",
    "\n",
    "import seaborn as sns\n",
    "sns.countplot(x = 'y', data = df)"
   ]
  },
  {
   "cell_type": "code",
   "execution_count": 159,
   "id": "91f7dd20-8dab-4a5d-a219-bfd166a6e2b0",
   "metadata": {},
   "outputs": [
    {
     "name": "stdout",
     "output_type": "stream",
     "text": [
      "Imbalance Ratio: 7.548118737001324\n"
     ]
    }
   ],
   "source": [
    "imbalance_ratio = class_counts.max() / class_counts.min()\n",
    "print(f\"Imbalance Ratio: {imbalance_ratio}\")"
   ]
  },
  {
   "cell_type": "code",
   "execution_count": 160,
   "id": "6c8a1634-7985-40de-98bd-e3747aa3f3bb",
   "metadata": {},
   "outputs": [
    {
     "data": {
      "text/plain": [
       "month\n",
       "may    13766\n",
       "jul     6895\n",
       "aug     6247\n",
       "jun     5341\n",
       "nov     3970\n",
       "apr     2932\n",
       "feb     2649\n",
       "jan     1403\n",
       "oct      738\n",
       "sep      579\n",
       "mar      477\n",
       "dec      214\n",
       "Name: count, dtype: int64"
      ]
     },
     "execution_count": 160,
     "metadata": {},
     "output_type": "execute_result"
    }
   ],
   "source": [
    "df['month'].value_counts()"
   ]
  },
  {
   "cell_type": "code",
   "execution_count": 161,
   "id": "236340f9-56a1-4fc4-a34d-2376e0d24579",
   "metadata": {},
   "outputs": [],
   "source": [
    "from sklearn.preprocessing import OneHotEncoder, StandardScaler\n",
    "\n",
    "# Encode categorical variables\n",
    "categorical_cols = ['job', 'marital', 'education', 'default', 'housing', 'loan', 'month', 'poutcome']\n",
    "df_encoded = pd.get_dummies(df, columns=categorical_cols, drop_first=True)\n",
    "\n",
    "# Normalize numerical variables\n",
    "numerical_cols = ['age', 'balance', 'day', 'duration', 'campaign', 'pdays', 'previous']\n",
    "scaler = StandardScaler()\n",
    "df_encoded[numerical_cols] = scaler.fit_transform(df_encoded[numerical_cols])\n",
    "df = df.dropna(subset=['contact'])\n",
    "# Define treatment and outcome\n",
    "X = df_encoded.drop(columns=['contact', 'y'])  # Features\n",
    "treatment = df_encoded['contact'].map({'cellular': 1, 'telephone': 0})  # Treatment\n",
    "outcome = df_encoded['y'].map({'yes': 1, 'no': 0})  # Outcome\n",
    "\n",
    "treatment = df['contact'].map({'cellular': 1, 'telephone': 0})"
   ]
  },
  {
   "cell_type": "code",
   "execution_count": 162,
   "id": "fbc8243c-32c9-47f6-b236-02a510e9a0b1",
   "metadata": {},
   "outputs": [
    {
     "name": "stdout",
     "output_type": "stream",
     "text": [
      "13020\n"
     ]
    }
   ],
   "source": [
    "print(treatment.isnull().sum())"
   ]
  },
  {
   "cell_type": "code",
   "execution_count": 163,
   "id": "3b932bc3-f37a-4285-b0cd-aab36ace37f3",
   "metadata": {},
   "outputs": [],
   "source": [
    "# # from sklearn.linear_model import LogisticRegression\n",
    "# # from sklearn.model_selection import train_test_split\n",
    "\n",
    "# # # Split data\n",
    "# # X_train, X_test, treatment_train, treatment_test = train_test_split(X, treatment, test_size=0.2, random_state=42)\n",
    "\n",
    "# # # Train a logistic regression model\n",
    "# # propensity_model = LogisticRegression()\n",
    "# # propensity_model.fit(X_train, treatment_train)\n",
    "\n",
    "# # # Predict propensity scores\n",
    "# # propensity_scores = propensity_model.predict_proba(X)[:, 1]\n",
    "# # df['propensity_score'] = propensity_scores\n",
    "\n",
    "# from sklearn.linear_model import LogisticRegression\n",
    "\n",
    "# # Train a logistic regression model\n",
    "# propensity_model = LogisticRegression()\n",
    "# propensity_model.fit(X, treatment)\n",
    "\n",
    "# # Predict propensity scores\n",
    "# propensity_scores = propensity_model.predict_proba(X)[:, 1]\n",
    "# df['propensity_score'] = propensity_scores"
   ]
  },
  {
   "cell_type": "code",
   "execution_count": 164,
   "id": "d377b561-08f6-43aa-8049-67740298ee39",
   "metadata": {},
   "outputs": [
    {
     "name": "stdout",
     "output_type": "stream",
     "text": [
      "13020\n"
     ]
    }
   ],
   "source": [
    "print(treatment.isnull().sum())"
   ]
  },
  {
   "cell_type": "code",
   "execution_count": 165,
   "id": "6aca7211-26eb-44a4-868a-9a3230527689",
   "metadata": {},
   "outputs": [
    {
     "data": {
      "application/vnd.plotly.v1+json": {
       "config": {
        "plotlyServerURL": "https://plot.ly"
       },
       "data": [
        {
         "alignmentgroup": "True",
         "hovertemplate": "Category=%{x}<br>Values=%{y}<extra></extra>",
         "legendgroup": "",
         "marker": {
          "color": "#636efa",
          "pattern": {
           "shape": ""
          }
         },
         "name": "",
         "offsetgroup": "",
         "orientation": "v",
         "showlegend": false,
         "textposition": "auto",
         "type": "bar",
         "x": [
          "A",
          "B",
          "C",
          "D"
         ],
         "xaxis": "x",
         "y": [
          10,
          20,
          15,
          25
         ],
         "yaxis": "y"
        }
       ],
       "layout": {
        "barmode": "relative",
        "legend": {
         "tracegroupgap": 0
        },
        "template": {
         "data": {
          "bar": [
           {
            "error_x": {
             "color": "#2a3f5f"
            },
            "error_y": {
             "color": "#2a3f5f"
            },
            "marker": {
             "line": {
              "color": "#E5ECF6",
              "width": 0.5
             },
             "pattern": {
              "fillmode": "overlay",
              "size": 10,
              "solidity": 0.2
             }
            },
            "type": "bar"
           }
          ],
          "barpolar": [
           {
            "marker": {
             "line": {
              "color": "#E5ECF6",
              "width": 0.5
             },
             "pattern": {
              "fillmode": "overlay",
              "size": 10,
              "solidity": 0.2
             }
            },
            "type": "barpolar"
           }
          ],
          "carpet": [
           {
            "aaxis": {
             "endlinecolor": "#2a3f5f",
             "gridcolor": "white",
             "linecolor": "white",
             "minorgridcolor": "white",
             "startlinecolor": "#2a3f5f"
            },
            "baxis": {
             "endlinecolor": "#2a3f5f",
             "gridcolor": "white",
             "linecolor": "white",
             "minorgridcolor": "white",
             "startlinecolor": "#2a3f5f"
            },
            "type": "carpet"
           }
          ],
          "choropleth": [
           {
            "colorbar": {
             "outlinewidth": 0,
             "ticks": ""
            },
            "type": "choropleth"
           }
          ],
          "contour": [
           {
            "colorbar": {
             "outlinewidth": 0,
             "ticks": ""
            },
            "colorscale": [
             [
              0,
              "#0d0887"
             ],
             [
              0.1111111111111111,
              "#46039f"
             ],
             [
              0.2222222222222222,
              "#7201a8"
             ],
             [
              0.3333333333333333,
              "#9c179e"
             ],
             [
              0.4444444444444444,
              "#bd3786"
             ],
             [
              0.5555555555555556,
              "#d8576b"
             ],
             [
              0.6666666666666666,
              "#ed7953"
             ],
             [
              0.7777777777777778,
              "#fb9f3a"
             ],
             [
              0.8888888888888888,
              "#fdca26"
             ],
             [
              1,
              "#f0f921"
             ]
            ],
            "type": "contour"
           }
          ],
          "contourcarpet": [
           {
            "colorbar": {
             "outlinewidth": 0,
             "ticks": ""
            },
            "type": "contourcarpet"
           }
          ],
          "heatmap": [
           {
            "colorbar": {
             "outlinewidth": 0,
             "ticks": ""
            },
            "colorscale": [
             [
              0,
              "#0d0887"
             ],
             [
              0.1111111111111111,
              "#46039f"
             ],
             [
              0.2222222222222222,
              "#7201a8"
             ],
             [
              0.3333333333333333,
              "#9c179e"
             ],
             [
              0.4444444444444444,
              "#bd3786"
             ],
             [
              0.5555555555555556,
              "#d8576b"
             ],
             [
              0.6666666666666666,
              "#ed7953"
             ],
             [
              0.7777777777777778,
              "#fb9f3a"
             ],
             [
              0.8888888888888888,
              "#fdca26"
             ],
             [
              1,
              "#f0f921"
             ]
            ],
            "type": "heatmap"
           }
          ],
          "heatmapgl": [
           {
            "colorbar": {
             "outlinewidth": 0,
             "ticks": ""
            },
            "colorscale": [
             [
              0,
              "#0d0887"
             ],
             [
              0.1111111111111111,
              "#46039f"
             ],
             [
              0.2222222222222222,
              "#7201a8"
             ],
             [
              0.3333333333333333,
              "#9c179e"
             ],
             [
              0.4444444444444444,
              "#bd3786"
             ],
             [
              0.5555555555555556,
              "#d8576b"
             ],
             [
              0.6666666666666666,
              "#ed7953"
             ],
             [
              0.7777777777777778,
              "#fb9f3a"
             ],
             [
              0.8888888888888888,
              "#fdca26"
             ],
             [
              1,
              "#f0f921"
             ]
            ],
            "type": "heatmapgl"
           }
          ],
          "histogram": [
           {
            "marker": {
             "pattern": {
              "fillmode": "overlay",
              "size": 10,
              "solidity": 0.2
             }
            },
            "type": "histogram"
           }
          ],
          "histogram2d": [
           {
            "colorbar": {
             "outlinewidth": 0,
             "ticks": ""
            },
            "colorscale": [
             [
              0,
              "#0d0887"
             ],
             [
              0.1111111111111111,
              "#46039f"
             ],
             [
              0.2222222222222222,
              "#7201a8"
             ],
             [
              0.3333333333333333,
              "#9c179e"
             ],
             [
              0.4444444444444444,
              "#bd3786"
             ],
             [
              0.5555555555555556,
              "#d8576b"
             ],
             [
              0.6666666666666666,
              "#ed7953"
             ],
             [
              0.7777777777777778,
              "#fb9f3a"
             ],
             [
              0.8888888888888888,
              "#fdca26"
             ],
             [
              1,
              "#f0f921"
             ]
            ],
            "type": "histogram2d"
           }
          ],
          "histogram2dcontour": [
           {
            "colorbar": {
             "outlinewidth": 0,
             "ticks": ""
            },
            "colorscale": [
             [
              0,
              "#0d0887"
             ],
             [
              0.1111111111111111,
              "#46039f"
             ],
             [
              0.2222222222222222,
              "#7201a8"
             ],
             [
              0.3333333333333333,
              "#9c179e"
             ],
             [
              0.4444444444444444,
              "#bd3786"
             ],
             [
              0.5555555555555556,
              "#d8576b"
             ],
             [
              0.6666666666666666,
              "#ed7953"
             ],
             [
              0.7777777777777778,
              "#fb9f3a"
             ],
             [
              0.8888888888888888,
              "#fdca26"
             ],
             [
              1,
              "#f0f921"
             ]
            ],
            "type": "histogram2dcontour"
           }
          ],
          "mesh3d": [
           {
            "colorbar": {
             "outlinewidth": 0,
             "ticks": ""
            },
            "type": "mesh3d"
           }
          ],
          "parcoords": [
           {
            "line": {
             "colorbar": {
              "outlinewidth": 0,
              "ticks": ""
             }
            },
            "type": "parcoords"
           }
          ],
          "pie": [
           {
            "automargin": true,
            "type": "pie"
           }
          ],
          "scatter": [
           {
            "fillpattern": {
             "fillmode": "overlay",
             "size": 10,
             "solidity": 0.2
            },
            "type": "scatter"
           }
          ],
          "scatter3d": [
           {
            "line": {
             "colorbar": {
              "outlinewidth": 0,
              "ticks": ""
             }
            },
            "marker": {
             "colorbar": {
              "outlinewidth": 0,
              "ticks": ""
             }
            },
            "type": "scatter3d"
           }
          ],
          "scattercarpet": [
           {
            "marker": {
             "colorbar": {
              "outlinewidth": 0,
              "ticks": ""
             }
            },
            "type": "scattercarpet"
           }
          ],
          "scattergeo": [
           {
            "marker": {
             "colorbar": {
              "outlinewidth": 0,
              "ticks": ""
             }
            },
            "type": "scattergeo"
           }
          ],
          "scattergl": [
           {
            "marker": {
             "colorbar": {
              "outlinewidth": 0,
              "ticks": ""
             }
            },
            "type": "scattergl"
           }
          ],
          "scattermapbox": [
           {
            "marker": {
             "colorbar": {
              "outlinewidth": 0,
              "ticks": ""
             }
            },
            "type": "scattermapbox"
           }
          ],
          "scatterpolar": [
           {
            "marker": {
             "colorbar": {
              "outlinewidth": 0,
              "ticks": ""
             }
            },
            "type": "scatterpolar"
           }
          ],
          "scatterpolargl": [
           {
            "marker": {
             "colorbar": {
              "outlinewidth": 0,
              "ticks": ""
             }
            },
            "type": "scatterpolargl"
           }
          ],
          "scatterternary": [
           {
            "marker": {
             "colorbar": {
              "outlinewidth": 0,
              "ticks": ""
             }
            },
            "type": "scatterternary"
           }
          ],
          "surface": [
           {
            "colorbar": {
             "outlinewidth": 0,
             "ticks": ""
            },
            "colorscale": [
             [
              0,
              "#0d0887"
             ],
             [
              0.1111111111111111,
              "#46039f"
             ],
             [
              0.2222222222222222,
              "#7201a8"
             ],
             [
              0.3333333333333333,
              "#9c179e"
             ],
             [
              0.4444444444444444,
              "#bd3786"
             ],
             [
              0.5555555555555556,
              "#d8576b"
             ],
             [
              0.6666666666666666,
              "#ed7953"
             ],
             [
              0.7777777777777778,
              "#fb9f3a"
             ],
             [
              0.8888888888888888,
              "#fdca26"
             ],
             [
              1,
              "#f0f921"
             ]
            ],
            "type": "surface"
           }
          ],
          "table": [
           {
            "cells": {
             "fill": {
              "color": "#EBF0F8"
             },
             "line": {
              "color": "white"
             }
            },
            "header": {
             "fill": {
              "color": "#C8D4E3"
             },
             "line": {
              "color": "white"
             }
            },
            "type": "table"
           }
          ]
         },
         "layout": {
          "annotationdefaults": {
           "arrowcolor": "#2a3f5f",
           "arrowhead": 0,
           "arrowwidth": 1
          },
          "autotypenumbers": "strict",
          "coloraxis": {
           "colorbar": {
            "outlinewidth": 0,
            "ticks": ""
           }
          },
          "colorscale": {
           "diverging": [
            [
             0,
             "#8e0152"
            ],
            [
             0.1,
             "#c51b7d"
            ],
            [
             0.2,
             "#de77ae"
            ],
            [
             0.3,
             "#f1b6da"
            ],
            [
             0.4,
             "#fde0ef"
            ],
            [
             0.5,
             "#f7f7f7"
            ],
            [
             0.6,
             "#e6f5d0"
            ],
            [
             0.7,
             "#b8e186"
            ],
            [
             0.8,
             "#7fbc41"
            ],
            [
             0.9,
             "#4d9221"
            ],
            [
             1,
             "#276419"
            ]
           ],
           "sequential": [
            [
             0,
             "#0d0887"
            ],
            [
             0.1111111111111111,
             "#46039f"
            ],
            [
             0.2222222222222222,
             "#7201a8"
            ],
            [
             0.3333333333333333,
             "#9c179e"
            ],
            [
             0.4444444444444444,
             "#bd3786"
            ],
            [
             0.5555555555555556,
             "#d8576b"
            ],
            [
             0.6666666666666666,
             "#ed7953"
            ],
            [
             0.7777777777777778,
             "#fb9f3a"
            ],
            [
             0.8888888888888888,
             "#fdca26"
            ],
            [
             1,
             "#f0f921"
            ]
           ],
           "sequentialminus": [
            [
             0,
             "#0d0887"
            ],
            [
             0.1111111111111111,
             "#46039f"
            ],
            [
             0.2222222222222222,
             "#7201a8"
            ],
            [
             0.3333333333333333,
             "#9c179e"
            ],
            [
             0.4444444444444444,
             "#bd3786"
            ],
            [
             0.5555555555555556,
             "#d8576b"
            ],
            [
             0.6666666666666666,
             "#ed7953"
            ],
            [
             0.7777777777777778,
             "#fb9f3a"
            ],
            [
             0.8888888888888888,
             "#fdca26"
            ],
            [
             1,
             "#f0f921"
            ]
           ]
          },
          "colorway": [
           "#636efa",
           "#EF553B",
           "#00cc96",
           "#ab63fa",
           "#FFA15A",
           "#19d3f3",
           "#FF6692",
           "#B6E880",
           "#FF97FF",
           "#FECB52"
          ],
          "font": {
           "color": "#2a3f5f"
          },
          "geo": {
           "bgcolor": "white",
           "lakecolor": "white",
           "landcolor": "#E5ECF6",
           "showlakes": true,
           "showland": true,
           "subunitcolor": "white"
          },
          "hoverlabel": {
           "align": "left"
          },
          "hovermode": "closest",
          "mapbox": {
           "style": "light"
          },
          "paper_bgcolor": "white",
          "plot_bgcolor": "#E5ECF6",
          "polar": {
           "angularaxis": {
            "gridcolor": "white",
            "linecolor": "white",
            "ticks": ""
           },
           "bgcolor": "#E5ECF6",
           "radialaxis": {
            "gridcolor": "white",
            "linecolor": "white",
            "ticks": ""
           }
          },
          "scene": {
           "xaxis": {
            "backgroundcolor": "#E5ECF6",
            "gridcolor": "white",
            "gridwidth": 2,
            "linecolor": "white",
            "showbackground": true,
            "ticks": "",
            "zerolinecolor": "white"
           },
           "yaxis": {
            "backgroundcolor": "#E5ECF6",
            "gridcolor": "white",
            "gridwidth": 2,
            "linecolor": "white",
            "showbackground": true,
            "ticks": "",
            "zerolinecolor": "white"
           },
           "zaxis": {
            "backgroundcolor": "#E5ECF6",
            "gridcolor": "white",
            "gridwidth": 2,
            "linecolor": "white",
            "showbackground": true,
            "ticks": "",
            "zerolinecolor": "white"
           }
          },
          "shapedefaults": {
           "line": {
            "color": "#2a3f5f"
           }
          },
          "ternary": {
           "aaxis": {
            "gridcolor": "white",
            "linecolor": "white",
            "ticks": ""
           },
           "baxis": {
            "gridcolor": "white",
            "linecolor": "white",
            "ticks": ""
           },
           "bgcolor": "#E5ECF6",
           "caxis": {
            "gridcolor": "white",
            "linecolor": "white",
            "ticks": ""
           }
          },
          "title": {
           "x": 0.05
          },
          "xaxis": {
           "automargin": true,
           "gridcolor": "white",
           "linecolor": "white",
           "ticks": "",
           "title": {
            "standoff": 15
           },
           "zerolinecolor": "white",
           "zerolinewidth": 2
          },
          "yaxis": {
           "automargin": true,
           "gridcolor": "white",
           "linecolor": "white",
           "ticks": "",
           "title": {
            "standoff": 15
           },
           "zerolinecolor": "white",
           "zerolinewidth": 2
          }
         }
        },
        "title": {
         "text": "Sample Bar Chart"
        },
        "xaxis": {
         "anchor": "y",
         "domain": [
          0,
          1
         ],
         "title": {
          "text": "Category"
         }
        },
        "yaxis": {
         "anchor": "x",
         "domain": [
          0,
          1
         ],
         "title": {
          "text": "Values"
         }
        }
       }
      }
     },
     "metadata": {},
     "output_type": "display_data"
    }
   ],
   "source": [
    "import plotly.express as px\n",
    "\n",
    "# Example data\n",
    "data = {\n",
    "    'Category': ['A', 'B', 'C', 'D'],\n",
    "    'Values': [10, 20, 15, 25]\n",
    "}\n",
    "\n",
    "# Create a bar chart\n",
    "fig = px.bar(data, x='Category', y='Values', title='Sample Bar Chart')\n",
    "\n",
    "# Display the chart\n",
    "fig.show()"
   ]
  },
  {
   "cell_type": "code",
   "execution_count": 166,
   "id": "c4a687f6-b243-42bd-a014-5e45141703b8",
   "metadata": {},
   "outputs": [
    {
     "data": {
      "text/plain": [
       "job\n",
       "blue-collar      9732\n",
       "management       9458\n",
       "technician       7597\n",
       "admin.           5171\n",
       "services         4154\n",
       "retired          2264\n",
       "self-employed    1579\n",
       "entrepreneur     1487\n",
       "unemployed       1303\n",
       "housemaid        1240\n",
       "student           938\n",
       "unknown           288\n",
       "Name: count, dtype: int64"
      ]
     },
     "execution_count": 166,
     "metadata": {},
     "output_type": "execute_result"
    }
   ],
   "source": [
    "df['job'].value_counts()"
   ]
  },
  {
   "cell_type": "code",
   "execution_count": 167,
   "id": "184d4ce8-4a2c-4748-8196-3d17359cd6b8",
   "metadata": {},
   "outputs": [
    {
     "data": {
      "text/plain": [
       "job            y  \n",
       "admin.         no     4540\n",
       "               yes     631\n",
       "blue-collar    no     9024\n",
       "               yes     708\n",
       "entrepreneur   no     1364\n",
       "               yes     123\n",
       "housemaid      no     1131\n",
       "               yes     109\n",
       "management     no     8157\n",
       "               yes    1301\n",
       "retired        no     1748\n",
       "               yes     516\n",
       "self-employed  no     1392\n",
       "               yes     187\n",
       "services       no     3785\n",
       "               yes     369\n",
       "student        no      669\n",
       "               yes     269\n",
       "technician     no     6757\n",
       "               yes     840\n",
       "unemployed     no     1101\n",
       "               yes     202\n",
       "unknown        no      254\n",
       "               yes      34\n",
       "dtype: int64"
      ]
     },
     "execution_count": 167,
     "metadata": {},
     "output_type": "execute_result"
    }
   ],
   "source": [
    "subscription_by_job = df.groupby(['job', 'y']).size()\n",
    "subscription_by_job"
   ]
  },
  {
   "cell_type": "code",
   "execution_count": 168,
   "id": "6262fd75-e653-4eda-9aa5-6bdea9ec04a3",
   "metadata": {},
   "outputs": [
    {
     "data": {
      "text/plain": [
       "<Axes: xlabel='marital', ylabel='count'>"
      ]
     },
     "execution_count": 168,
     "metadata": {},
     "output_type": "execute_result"
    },
    {
     "data": {
      "image/png": "[encoded data removed]",
      "text/plain": [
       "<Figure size 640x480 with 1 Axes>"
      ]
     },
     "metadata": {},
     "output_type": "display_data"
    }
   ],
   "source": [
    "sns.countplot(x  ='marital', hue = 'y', data = df)"
   ]
  },
  {
   "cell_type": "code",
   "execution_count": 169,
   "id": "b91699cf-b7e2-47c9-8b29-ea7592a13b59",
   "metadata": {},
   "outputs": [
    {
     "data": {
      "image/png": "[encoded data removed]",
      "text/plain": [
       "<Figure size 640x480 with 2 Axes>"
      ]
     },
     "metadata": {},
     "output_type": "display_data"
    }
   ],
   "source": [
    "# Create a cross-tabulation of job vs subscription status\n",
    "cross_tab = pd.crosstab(df['job'], df['y'])\n",
    "\n",
    "# Plot heatmap\n",
    "sns.heatmap(cross_tab, annot=True, fmt='d', cmap='Blues')\n",
    "plt.title('Subscription Counts by Job')\n",
    "plt.xlabel('Subscribed')\n",
    "plt.ylabel('Job')\n",
    "plt.show()"
   ]
  },
  {
   "cell_type": "code",
   "execution_count": 170,
   "id": "deee5068-9196-4878-8638-56ba39e61fba",
   "metadata": {},
   "outputs": [
    {
     "data": {
      "image/png": "[encoded data removed]",
      "text/plain": [
       "<Figure size 640x480 with 1 Axes>"
      ]
     },
     "metadata": {},
     "output_type": "display_data"
    }
   ],
   "source": [
    "sns.countplot(x='education', hue='y', data=df, palette='Set2')\n",
    "plt.title('Subscription Rate by Job')\n",
    "plt.xlabel('Job')\n",
    "plt.ylabel('Subscription Rate')\n",
    "plt.xticks(rotation=45)\n",
    "plt.show()"
   ]
  },
  {
   "cell_type": "code",
   "execution_count": 171,
   "id": "3e41d62e-4e2f-4843-b471-d725fa4adcf2",
   "metadata": {},
   "outputs": [
    {
     "name": "stderr",
     "output_type": "stream",
     "text": [
      "/opt/anaconda3/lib/python3.11/site-packages/seaborn/_oldcore.py:1119: FutureWarning:\n",
      "\n",
      "use_inf_as_na option is deprecated and will be removed in a future version. Convert inf values to NaN before operating instead.\n",
      "\n"
     ]
    },
    {
     "data": {
      "image/png": "[encoded data removed]",
      "text/plain": [
       "<Figure size 640x480 with 1 Axes>"
      ]
     },
     "metadata": {},
     "output_type": "display_data"
    }
   ],
   "source": [
    "sns.histplot(x='age', hue='y', data=df, kde=True, palette='Set2')\n",
    "plt.title('Age Distribution by Subscription Status')\n",
    "plt.xlabel('Age')\n",
    "plt.ylabel('Count')\n",
    "plt.show()"
   ]
  },
  {
   "cell_type": "code",
   "execution_count": 172,
   "id": "8d8b68fd-0c5d-4f7a-8ad9-23c876cd3b19",
   "metadata": {},
   "outputs": [
    {
     "data": {
      "image/png": "[encoded data removed]",
      "text/plain": [
       "<Figure size 640x480 with 1 Axes>"
      ]
     },
     "metadata": {},
     "output_type": "display_data"
    }
   ],
   "source": [
    "import seaborn as sns\n",
    "sns.countplot(x='default', hue='y', data=df,palette='Set2')\n",
    "plt.xlabel('credit Value in default')\n",
    "plt.ylabel('Count')\n",
    "plt.show()"
   ]
  },
  {
   "cell_type": "code",
   "execution_count": 173,
   "id": "4814d61f-2c69-4688-a65c-20fb8a284789",
   "metadata": {},
   "outputs": [
    {
     "name": "stderr",
     "output_type": "stream",
     "text": [
      "/opt/anaconda3/lib/python3.11/site-packages/seaborn/_oldcore.py:1119: FutureWarning:\n",
      "\n",
      "use_inf_as_na option is deprecated and will be removed in a future version. Convert inf values to NaN before operating instead.\n",
      "\n"
     ]
    },
    {
     "data": {
      "image/png": "[encoded data removed]",
      "text/plain": [
       "<Figure size 640x480 with 1 Axes>"
      ]
     },
     "metadata": {},
     "output_type": "display_data"
    }
   ],
   "source": [
    "sns.histplot(x='balance', hue='y', data=df, palette='Set2', bins = 30)\n",
    "plt.title('Balance Distribution by Subscription Status')\n",
    "plt.xlabel('Balance')\n",
    "plt.ylabel('Count')\n",
    "plt.show()"
   ]
  },
  {
   "cell_type": "code",
   "execution_count": 174,
   "id": "6a7ca278-d001-4c02-b617-5fa16e9e61da",
   "metadata": {},
   "outputs": [
    {
     "name": "stdout",
     "output_type": "stream",
     "text": [
      "y           no   yes\n",
      "housing             \n",
      "no       16727  3354\n",
      "yes      23195  1935\n"
     ]
    }
   ],
   "source": [
    "cross_tab = pd.crosstab(df['housing'], df['y'])\n",
    "print(cross_tab)"
   ]
  },
  {
   "cell_type": "code",
   "execution_count": 175,
   "id": "341e3770-67c5-4a41-8a26-33020a35063c",
   "metadata": {},
   "outputs": [],
   "source": [
    "# from scipy.stats import chi2_contingency\n",
    "\n",
    "# # Create a contingency table\n",
    "# contingency_table = pd.crosstab(df['feature1'], df['feature2'])\n",
    "\n",
    "# # Perform Chi-Square test\n",
    "# chi2, p, dof, expected = chi2_contingency(contingency_table)\n",
    "# print(f\"Chi-Square Statistic: {chi2}\")\n",
    "# print(f\"P-value: {p}\")"
   ]
  },
  {
   "cell_type": "code",
   "execution_count": 176,
   "id": "b1405092-c11e-4625-8bea-279e6376a520",
   "metadata": {},
   "outputs": [
    {
     "name": "stdout",
     "output_type": "stream",
     "text": [
      "    balance  treatment  propensity_score\n",
      "0      2143          1          0.581632\n",
      "3      1506          1          0.484080\n",
      "9       593          1          0.430159\n",
      "20      723          1          0.286103\n",
      "21      779          1          0.564425\n"
     ]
    }
   ],
   "source": [
    "import pandas as pd\n",
    "import numpy as np\n",
    "from sklearn.linear_model import LogisticRegression\n",
    "from sklearn.preprocessing import StandardScaler\n",
    "\n",
    "# Load dataset (assuming it's in a CSV file)\n",
    "# df = pd.read_csv(\"your_dataset.csv\")\n",
    "\n",
    "# Define treatment and control groups based on the median of balance\n",
    "median_balance = df['balance'].median()\n",
    "df['treatment'] = (df['balance'] >= median_balance).astype(int)  # 1 if balance >= median, else 0\n",
    "\n",
    "# Define features for propensity score estimation (excluding target 'y')\n",
    "X = df.drop(columns=['y', 'treatment', 'balance'])  # Remove balance since it's the treatment indicator\n",
    "y = df['treatment']  # Treatment assignment\n",
    "\n",
    "# Convert categorical variables to dummies\n",
    "X = pd.get_dummies(X, drop_first=True)\n",
    "\n",
    "# Standardize the data\n",
    "scaler = StandardScaler()\n",
    "X_scaled = scaler.fit_transform(X)\n",
    "\n",
    "# Fit logistic regression for propensity scores\n",
    "logreg = LogisticRegression(solver='saga', max_iter=1000)\n",
    "logreg.fit(X_scaled, y)\n",
    "df['propensity_score'] = logreg.predict_proba(X_scaled)[:, 1]\n",
    "\n",
    "# Perform propensity score matching\n",
    "# Define caliper (small range around each score to find a match)\n",
    "caliper = 0.05\n",
    "\n",
    "def match_sample(df):\n",
    "    treated = df[df['treatment'] == 1]\n",
    "    control = df[df['treatment'] == 0]\n",
    "    matched_control = []\n",
    "    \n",
    "    for _, row in treated.iterrows():\n",
    "        potential_matches = control[abs(control['propensity_score'] - row['propensity_score']) <= caliper]\n",
    "        \n",
    "        if not potential_matches.empty:\n",
    "            match = potential_matches.sample(1)  # Randomly select one match\n",
    "            matched_control.append(match)\n",
    "            control = control.drop(match.index)  # Remove matched sample to avoid reuse\n",
    "    \n",
    "    matched_control = pd.concat(matched_control)\n",
    "    balanced_df = pd.concat([treated, matched_control])\n",
    "    return balanced_df\n",
    "\n",
    "balanced_df = match_sample(df)\n",
    "\n",
    "# Output final dataset\n",
    "print(balanced_df[['balance', 'treatment', 'propensity_score']].head())"
   ]
  },
  {
   "cell_type": "code",
   "execution_count": 177,
   "id": "fbd31c8d-84e8-4bdb-a3c2-3a50cba3009d",
   "metadata": {},
   "outputs": [
    {
     "name": "stdout",
     "output_type": "stream",
     "text": [
      "treatment\n",
      "1    22619\n",
      "0    18659\n",
      "Name: count, dtype: int64\n"
     ]
    }
   ],
   "source": [
    "print(balanced_df['treatment'].value_counts())"
   ]
  },
  {
   "cell_type": "code",
   "execution_count": 178,
   "id": "49b5c229-4499-4e3e-9515-b900f740da59",
   "metadata": {},
   "outputs": [
    {
     "name": "stderr",
     "output_type": "stream",
     "text": [
      "/var/folders/l4/t9jrg3810fj7mltqzxyw19sh0000gn/T/ipykernel_13046/2314164844.py:4: FutureWarning:\n",
      "\n",
      "\n",
      "\n",
      "`shade` is now deprecated in favor of `fill`; setting `fill=True`.\n",
      "This will become an error in seaborn v0.14.0; please update your code.\n",
      "\n",
      "\n",
      "/opt/anaconda3/lib/python3.11/site-packages/seaborn/_oldcore.py:1119: FutureWarning:\n",
      "\n",
      "use_inf_as_na option is deprecated and will be removed in a future version. Convert inf values to NaN before operating instead.\n",
      "\n",
      "/var/folders/l4/t9jrg3810fj7mltqzxyw19sh0000gn/T/ipykernel_13046/2314164844.py:5: FutureWarning:\n",
      "\n",
      "\n",
      "\n",
      "`shade` is now deprecated in favor of `fill`; setting `fill=True`.\n",
      "This will become an error in seaborn v0.14.0; please update your code.\n",
      "\n",
      "\n",
      "/opt/anaconda3/lib/python3.11/site-packages/seaborn/_oldcore.py:1119: FutureWarning:\n",
      "\n",
      "use_inf_as_na option is deprecated and will be removed in a future version. Convert inf values to NaN before operating instead.\n",
      "\n"
     ]
    },
    {
     "data": {
      "image/png": "[encoded data removed]",
      "text/plain": [
       "<Figure size 640x480 with 1 Axes>"
      ]
     },
     "metadata": {},
     "output_type": "display_data"
    }
   ],
   "source": [
    "import matplotlib.pyplot as plt\n",
    "import seaborn as sns\n",
    "\n",
    "sns.kdeplot(balanced_df[balanced_df['treatment'] == 1]['propensity_score'], label=\"Treated\", shade=True)\n",
    "sns.kdeplot(balanced_df[balanced_df['treatment'] == 0]['propensity_score'], label=\"Control\", shade=True)\n",
    "plt.xlabel(\"Propensity Score\")\n",
    "plt.ylabel(\"Density\")\n",
    "plt.title(\"Propensity Score Distribution\")\n",
    "plt.legend()\n",
    "plt.show()\n"
   ]
  },
  {
   "cell_type": "code",
   "execution_count": 179,
   "id": "4e3cc38e",
   "metadata": {},
   "outputs": [
    {
     "name": "stdout",
     "output_type": "stream",
     "text": [
      "count    41278.000000\n",
      "mean         2.052024\n",
      "std          0.813932\n",
      "min          1.018580\n",
      "25%          1.683400\n",
      "50%          1.929536\n",
      "75%          2.260689\n",
      "max         60.972974\n",
      "Name: weights, dtype: float64\n"
     ]
    }
   ],
   "source": [
    "# Compute inverse probability weights\n",
    "balanced_df['weights'] = balanced_df['treatment'] / balanced_df['propensity_score'] + (1 - balanced_df['treatment']) / (1 - balanced_df['propensity_score'])\n",
    "\n",
    "# Check weight distribution\n",
    "print(balanced_df['weights'].describe())\n"
   ]
  },
  {
   "cell_type": "markdown",
   "id": "ee250051-0f8b-4385-afcf-ccd1c635227c",
   "metadata": {},
   "source": [
    "#### Ideally, the distributions should overlap, indicating good matching."
   ]
  },
  {
   "attachments": {},
   "cell_type": "markdown",
   "id": "8ff05aa3",
   "metadata": {},
   "source": [
    "### Trim Weights to reduce instabliltiy"
   ]
  },
  {
   "cell_type": "code",
   "execution_count": 184,
   "id": "7fbb0ac4-8790-4d6e-b8da-349a396761b2",
   "metadata": {},
   "outputs": [
    {
     "name": "stdout",
     "output_type": "stream",
     "text": [
      "count    40865.000000\n",
      "mean         2.011099\n",
      "std          0.471837\n",
      "min          1.018580\n",
      "25%          1.680664\n",
      "50%          1.924228\n",
      "75%          2.247102\n",
      "max          3.956097\n",
      "Name: weights, dtype: float64\n"
     ]
    }
   ],
   "source": [
    "# Define a reasonable upper bound for weights (99th percentile)\n",
    "weight_threshold = balanced_df['weights'].quantile(0.99)\n",
    "\n",
    "# Trim excessive weights\n",
    "df_trimmed = balanced_df[balanced_df['weights'] <= weight_threshold]\n",
    "\n",
    "# Check new weight distribution\n",
    "print(df_trimmed['weights'].describe())\n"
   ]
  },
  {
   "cell_type": "code",
   "execution_count": 186,
   "id": "81aeec79",
   "metadata": {},
   "outputs": [
    {
     "name": "stderr",
     "output_type": "stream",
     "text": [
      "/opt/anaconda3/lib/python3.11/site-packages/statsmodels/base/model.py:130: ValueWarning:\n",
      "\n",
      "unknown kwargs ['weights']\n",
      "\n",
      "/opt/anaconda3/lib/python3.11/site-packages/statsmodels/base/model.py:130: ValueWarning:\n",
      "\n",
      "unknown kwargs ['weights']\n",
      "\n"
     ]
    },
    {
     "name": "stdout",
     "output_type": "stream",
     "text": [
      "Optimization terminated successfully.\n",
      "         Current function value: 0.341473\n",
      "         Iterations 7\n",
      "                           Logit Regression Results                           \n",
      "==============================================================================\n",
      "Dep. Variable:                      y   No. Observations:                40865\n",
      "Model:                          Logit   Df Residuals:                    40862\n",
      "Method:                           MLE   Df Model:                            2\n",
      "Date:                Sun, 09 Mar 2025   Pseudo R-squ.:                 0.07949\n",
      "Time:                        17:15:53   Log-Likelihood:                -13954.\n",
      "converged:                       True   LL-Null:                       -15159.\n",
      "Covariance Type:            nonrobust   LLR p-value:                     0.000\n",
      "====================================================================================\n",
      "                       coef    std err          z      P>|z|      [0.025      0.975]\n",
      "------------------------------------------------------------------------------------\n",
      "const               -5.6586      0.084    -67.642      0.000      -5.823      -5.495\n",
      "treatment            0.1727      0.033      5.218      0.000       0.108       0.238\n",
      "propensity_score     6.5243      0.145     44.847      0.000       6.239       6.809\n",
      "====================================================================================\n"
     ]
    }
   ],
   "source": [
    "import statsmodels.api as sm\n",
    "\n",
    "# Define predictor variables\n",
    "X = df_trimmed[['treatment', 'propensity_score']]\n",
    "X = sm.add_constant(X)\n",
    "\n",
    "# Define target variable\n",
    "y = df_trimmed['y']\n",
    "\n",
    "# Fit weighted logistic regression\n",
    "logit_model = sm.Logit(y, X, weights=df_trimmed['weights']).fit()\n",
    "print(logit_model.summary())\n"
   ]
  },
  {
   "cell_type": "code",
   "execution_count": 181,
   "id": "281ce6a1-9913-4464-834b-25398060d004",
   "metadata": {},
   "outputs": [
    {
     "name": "stdout",
     "output_type": "stream",
     "text": [
      "Treatment Effect (ATE): 0.04325310963917768\n"
     ]
    }
   ],
   "source": [
    "balanced_df['y'] = balanced_df['y'].map({'yes': 1, 'no': 0})\n",
    "treated_mean = balanced_df[balanced_df['treatment'] == 1]['y'].mean()\n",
    "control_mean = balanced_df[balanced_df['treatment'] == 0]['y'].mean()\n",
    "treatment_effect = treated_mean - control_mean\n",
    "\n",
    "print(f\"Treatment Effect (ATE): {treatment_effect}\")\n"
   ]
  },
  {
   "attachments": {},
   "cell_type": "markdown",
   "id": "b9b3d0d5-1825-4554-8110-986d45a2dc25",
   "metadata": {},
   "source": [
    "The ATE of 0.0438 means that being in the treatment group (i.e., having a balance above the median) increases the probability of y=1 (e.g., a positive outcome) by approximately 4.38 percentage points compared to the control group.\n",
    "\n",
    "Practical Impact of ATE\n",
    "\n",
    "A 4.33% increase in response rate suggests that balance plays a role, but it may not be the only important factor.\n",
    "Other factors like campaign duration, job type, or past interactions might also contribute.\n"
   ]
  },
  {
   "cell_type": "code",
   "execution_count": 182,
   "id": "e121680e-5a81-4cf6-9a65-55aae66f98e2",
   "metadata": {},
   "outputs": [
    {
     "name": "stdout",
     "output_type": "stream",
     "text": [
      "T-statistic: 13.304363519663402, P-value: 2.6439216671105036e-40\n"
     ]
    }
   ],
   "source": [
    "from scipy.stats import ttest_ind\n",
    "\n",
    "t_stat, p_value = ttest_ind(\n",
    "    balanced_df[balanced_df['treatment'] == 1]['y'],\n",
    "    balanced_df[balanced_df['treatment'] == 0]['y']\n",
    ")\n",
    "\n",
    "print(f\"T-statistic: {t_stat}, P-value: {p_value}\")\n"
   ]
  },
  {
   "cell_type": "markdown",
   "id": "fdf97652-1ccd-448b-aac9-e89e182fd0d1",
   "metadata": {},
   "source": [
    "If p-value < 0.05, the treatment effect is statistically significant.\n",
    "If p-value ≥ 0.05, the effect might not be meaningful, and we might need to adjust our approach.\n"
   ]
  },
  {
   "cell_type": "code",
   "execution_count": 187,
   "id": "25a300f3-903b-4d85-a057-e649cc0038e0",
   "metadata": {},
   "outputs": [
    {
     "name": "stdout",
     "output_type": "stream",
     "text": [
      "                           Logit Regression Results                           \n",
      "==============================================================================\n",
      "Dep. Variable:                      y   No. Observations:                40865\n",
      "Model:                          Logit   Df Residuals:                    40862\n",
      "Method:                           MLE   Df Model:                            2\n",
      "Date:                Sun, 09 Mar 2025   Pseudo R-squ.:                 0.07949\n",
      "Time:                        17:20:39   Log-Likelihood:                -13954.\n",
      "converged:                       True   LL-Null:                       -15159.\n",
      "Covariance Type:            nonrobust   LLR p-value:                     0.000\n",
      "====================================================================================\n",
      "                       coef    std err          z      P>|z|      [0.025      0.975]\n",
      "------------------------------------------------------------------------------------\n",
      "const               -5.6586      0.084    -67.642      0.000      -5.823      -5.495\n",
      "treatment            0.1727      0.033      5.218      0.000       0.108       0.238\n",
      "propensity_score     6.5243      0.145     44.847      0.000       6.239       6.809\n",
      "====================================================================================\n"
     ]
    }
   ],
   "source": [
    "print(logit_model.summary())  # Look at p-value for 'treatment'\n"
   ]
  },
  {
   "cell_type": "code",
   "execution_count": 189,
   "id": "cbd0201c",
   "metadata": {},
   "outputs": [
    {
     "name": "stdout",
     "output_type": "stream",
     "text": [
      "   balance           job  treatment  propensity_score_balance_job\n",
      "0     2143    management          0                      0.000450\n",
      "1       29    technician          0                      0.000912\n",
      "2        2  entrepreneur          0                      0.000958\n",
      "3     1506   blue-collar          0                      0.000835\n",
      "4        1       unknown          0                      0.001131\n"
     ]
    },
    {
     "name": "stderr",
     "output_type": "stream",
     "text": [
      "/opt/anaconda3/lib/python3.11/site-packages/sklearn/linear_model/_sag.py:350: ConvergenceWarning:\n",
      "\n",
      "The max_iter was reached which means the coef_ did not converge\n",
      "\n"
     ]
    }
   ],
   "source": [
    "import pandas as pd\n",
    "import numpy as np\n",
    "from sklearn.linear_model import LogisticRegression\n",
    "from sklearn.preprocessing import StandardScaler\n",
    "\n",
    "# Load dataset (assuming it's already loaded)\n",
    "# df = pd.read_csv(\"your_dataset.csv\")\n",
    "\n",
    "# Define median balance\n",
    "median_balance = df['balance'].median()\n",
    "\n",
    "# Define treatment: Customers with high balance & specific job type (e.g., \"admin.\")\n",
    "df['treatment'] = ((df['balance'] >= median_balance) & (df['job'] == 'admin.')).astype(int)\n",
    "\n",
    "# Define features (including interaction terms)\n",
    "features = ['age', 'education', 'previous', 'campaign', 'default', 'housing', 'loan', 'balance']\n",
    "\n",
    "# Convert categorical variables (excluding job) into dummies\n",
    "df_encoded = pd.get_dummies(df[features], drop_first=True)\n",
    "\n",
    "# Add interaction term: balance * job type\n",
    "df['balance_job_interaction'] = df['balance'] * (df['job'] == 'admin.').astype(int)\n",
    "df_encoded['balance_job_interaction'] = df['balance_job_interaction']\n",
    "\n",
    "# Standardize numerical features\n",
    "scaler = StandardScaler()\n",
    "num_features = ['age', 'balance', 'campaign', 'previous', 'balance_job_interaction']\n",
    "df_encoded[num_features] = scaler.fit_transform(df_encoded[num_features])\n",
    "\n",
    "# Define X (propensity score model predictors) and y (treatment)\n",
    "X = df_encoded\n",
    "y = df['treatment']\n",
    "\n",
    "# Fit logistic regression for propensity scores\n",
    "logit_model = LogisticRegression(solver='saga', max_iter=1000)\n",
    "logit_model.fit(X, y)\n",
    "\n",
    "# Compute propensity scores\n",
    "df['propensity_score_balance_job'] = logit_model.predict_proba(X)[:, 1]\n",
    "\n",
    "# Output first few rows\n",
    "print(df[['balance', 'job', 'treatment', 'propensity_score_balance_job']].head())\n"
   ]
  },
  {
   "cell_type": "code",
   "execution_count": 190,
   "id": "181d268f",
   "metadata": {},
   "outputs": [
    {
     "name": "stdout",
     "output_type": "stream",
     "text": [
      "Treatment Distribution:\n",
      "treatment\n",
      "0    0.748778\n",
      "1    0.251222\n",
      "Name: proportion, dtype: float64\n",
      "   balance    job_grouped  treatment  propensity_score_balance_job\n",
      "0     2143   white_collar          1                      1.000000\n",
      "1       29   white_collar          0                      0.001399\n",
      "2        2  self_employed          0                      0.000901\n",
      "3     1506    blue_collar          0                      0.001042\n",
      "4        1        unknown          0                      0.000887\n"
     ]
    },
    {
     "name": "stderr",
     "output_type": "stream",
     "text": [
      "/opt/anaconda3/lib/python3.11/site-packages/seaborn/_oldcore.py:1119: FutureWarning:\n",
      "\n",
      "use_inf_as_na option is deprecated and will be removed in a future version. Convert inf values to NaN before operating instead.\n",
      "\n"
     ]
    },
    {
     "data": {
      "image/png": "[encoded data removed]",
      "text/plain": [
       "<Figure size 640x480 with 1 Axes>"
      ]
     },
     "metadata": {},
     "output_type": "display_data"
    }
   ],
   "source": [
    "import pandas as pd\n",
    "import numpy as np\n",
    "from sklearn.linear_model import LogisticRegression\n",
    "from sklearn.preprocessing import StandardScaler\n",
    "\n",
    "# Load dataset (assuming it's already loaded)\n",
    "# df = pd.read_csv(\"your_dataset.csv\")\n",
    "\n",
    "# Define median balance\n",
    "median_balance = df['balance'].median()\n",
    "\n",
    "# ✅ Step 1: Optimize Treatment Definition (Ensure Balance)\n",
    "# Treatment: High balance AND working in a specific job group (e.g., white-collar jobs)\n",
    "white_collar_jobs = ['management', 'admin.', 'technician']\n",
    "df['treatment'] = ((df['balance'] >= median_balance) & (df['job'].isin(white_collar_jobs))).astype(int)\n",
    "\n",
    "# ✅ Step 2: Check Treatment Group Balance\n",
    "print(\"Treatment Distribution:\")\n",
    "print(df['treatment'].value_counts(normalize=True))  # Ensure a reasonable split\n",
    "\n",
    "# ✅ Step 3: Reduce High Cardinality in Job (Group Jobs)\n",
    "df['job_grouped'] = df['job'].replace({\n",
    "    'management': 'white_collar',\n",
    "    'admin.': 'white_collar',\n",
    "    'technician': 'white_collar',\n",
    "    'services': 'blue_collar',\n",
    "    'blue-collar': 'blue_collar',\n",
    "    'entrepreneur': 'self_employed',\n",
    "    'self-employed': 'self_employed'\n",
    "})\n",
    "\n",
    "# ✅ Step 4: Define Features for Propensity Score Estimation\n",
    "features = ['age', 'education', 'previous', 'campaign', 'default', 'housing', 'loan', 'balance']\n",
    "\n",
    "# Convert categorical variables (excluding job) into dummies\n",
    "df_encoded = pd.get_dummies(df[features], drop_first=True)\n",
    "\n",
    "# Add interaction term: balance * job type\n",
    "df['balance_job_interaction'] = df['balance'] * (df['job_grouped'] == 'white_collar').astype(int)\n",
    "df_encoded['balance_job_interaction'] = df['balance_job_interaction']\n",
    "\n",
    "# ✅ Step 5: Standardize Numerical Features\n",
    "scaler = StandardScaler()\n",
    "num_features = ['age', 'balance', 'campaign', 'previous', 'balance_job_interaction']\n",
    "df_encoded[num_features] = scaler.fit_transform(df_encoded[num_features])\n",
    "\n",
    "# Define X (propensity score model predictors) and y (treatment)\n",
    "X = df_encoded\n",
    "y = df['treatment']\n",
    "\n",
    "# ✅ Step 6: Fit Logistic Regression (Fix Convergence Issues)\n",
    "logit_model = LogisticRegression(solver='liblinear', max_iter=5000)  # Increased max_iter & changed solver\n",
    "logit_model.fit(X, y)\n",
    "\n",
    "# ✅ Step 7: Compute Propensity Scores\n",
    "df['propensity_score_balance_job'] = logit_model.predict_proba(X)[:, 1]\n",
    "\n",
    "# ✅ Step 8: Check Results\n",
    "print(df[['balance', 'job_grouped', 'treatment', 'propensity_score_balance_job']].head())\n",
    "\n",
    "# ✅ Step 9: Check Propensity Score Distribution\n",
    "import seaborn as sns\n",
    "import matplotlib.pyplot as plt\n",
    "\n",
    "sns.histplot(df, x=\"propensity_score_balance_job\", hue=\"treatment\", bins=50, kde=True)\n",
    "plt.title(\"Propensity Score Distribution for Balance * Job Type\")\n",
    "plt.xlabel(\"Propensity Score\")\n",
    "plt.ylabel(\"Density\")\n",
    "plt.show()\n"
   ]
  },
  {
   "cell_type": "code",
   "execution_count": 191,
   "id": "f438c811",
   "metadata": {},
   "outputs": [],
   "source": [
    "white_collar_jobs = ['management', 'admin.', 'technician', 'services']\n",
    "df['treatment'] = ((df['balance'] >= median_balance) & (df['job'].isin(white_collar_jobs))).astype(int)\n"
   ]
  },
  {
   "cell_type": "code",
   "execution_count": 192,
   "id": "113ca6b5",
   "metadata": {},
   "outputs": [],
   "source": [
    "features = ['age', 'education', 'marital', 'previous', 'campaign', 'duration', 'default', 'housing', 'loan']\n",
    "df_encoded = pd.get_dummies(df[features], drop_first=True)"
   ]
  },
  {
   "cell_type": "code",
   "execution_count": 193,
   "id": "7a2a5b56",
   "metadata": {},
   "outputs": [],
   "source": [
    "from sklearn.ensemble import RandomForestClassifier\n",
    "\n",
    "rf_model = RandomForestClassifier(n_estimators=100, max_depth=5, random_state=42)\n",
    "rf_model.fit(X, y)\n",
    "\n",
    "df['propensity_score_rf'] = rf_model.predict_proba(X)[:, 1]\n"
   ]
  },
  {
   "cell_type": "code",
   "execution_count": 194,
   "id": "d49e136e",
   "metadata": {},
   "outputs": [],
   "source": [
    "df_trimmed = df[(df['propensity_score_balance_job'] > 0.05) & (df['propensity_score_balance_job'] < 0.95)]"
   ]
  },
  {
   "cell_type": "code",
   "execution_count": 195,
   "id": "e6411c20",
   "metadata": {},
   "outputs": [
    {
     "name": "stderr",
     "output_type": "stream",
     "text": [
      "/opt/anaconda3/lib/python3.11/site-packages/seaborn/_oldcore.py:1119: FutureWarning:\n",
      "\n",
      "use_inf_as_na option is deprecated and will be removed in a future version. Convert inf values to NaN before operating instead.\n",
      "\n"
     ]
    },
    {
     "data": {
      "text/plain": [
       "<Axes: xlabel='propensity_score_balance_job', ylabel='Count'>"
      ]
     },
     "execution_count": 195,
     "metadata": {},
     "output_type": "execute_result"
    },
    {
     "data": {
      "image/png": "[encoded data removed]",
      "text/plain": [
       "<Figure size 640x480 with 1 Axes>"
      ]
     },
     "metadata": {},
     "output_type": "display_data"
    }
   ],
   "source": [
    "sns.histplot(df_trimmed, x=\"propensity_score_balance_job\", hue=\"treatment\", bins=50, kde=True)\n"
   ]
  },
  {
   "cell_type": "code",
   "execution_count": 196,
   "id": "8d2500a5",
   "metadata": {},
   "outputs": [],
   "source": [
    "df_trimmed = df[(df['propensity_score_balance_job'] > 0.05) & (df['propensity_score_balance_job'] < 0.95)]\n"
   ]
  },
  {
   "cell_type": "code",
   "execution_count": 197,
   "id": "0666b061",
   "metadata": {},
   "outputs": [
    {
     "name": "stdout",
     "output_type": "stream",
     "text": [
      "count    4092.000000\n",
      "mean        1.319917\n",
      "std         0.275254\n",
      "min         1.052658\n",
      "25%         1.103046\n",
      "50%         1.219920\n",
      "75%         1.465370\n",
      "max         2.567745\n",
      "Name: weights, dtype: float64\n"
     ]
    },
    {
     "name": "stderr",
     "output_type": "stream",
     "text": [
      "/var/folders/l4/t9jrg3810fj7mltqzxyw19sh0000gn/T/ipykernel_13046/4051733913.py:1: SettingWithCopyWarning:\n",
      "\n",
      "\n",
      "A value is trying to be set on a copy of a slice from a DataFrame.\n",
      "Try using .loc[row_indexer,col_indexer] = value instead\n",
      "\n",
      "See the caveats in the documentation: https://pandas.pydata.org/pandas-docs/stable/user_guide/indexing.html#returning-a-view-versus-a-copy\n",
      "\n"
     ]
    }
   ],
   "source": [
    "df_trimmed['weights'] = df_trimmed['treatment'] / df_trimmed['propensity_score_balance_job'] + \\\n",
    "                        (1 - df_trimmed['treatment']) / (1 - df_trimmed['propensity_score_balance_job'])\n",
    "\n",
    "# Check weight distribution\n",
    "print(df_trimmed['weights'].describe())\n"
   ]
  },
  {
   "cell_type": "code",
   "execution_count": 198,
   "id": "244027b7",
   "metadata": {},
   "outputs": [],
   "source": [
    "from sklearn.neighbors import NearestNeighbors\n",
    "\n",
    "# Separate treated & control groups\n",
    "treated = df_trimmed[df_trimmed['treatment'] == 1]\n",
    "control = df_trimmed[df_trimmed['treatment'] == 0]\n",
    "\n",
    "# Apply nearest neighbor matching\n",
    "nn = NearestNeighbors(n_neighbors=1, metric='euclidean')\n",
    "nn.fit(control[['propensity_score_balance_job']])\n",
    "matched_indices = nn.kneighbors(treated[['propensity_score_balance_job']], return_distance=False).flatten()\n",
    "\n",
    "# Create matched dataset\n",
    "df_matched = pd.concat([treated, control.iloc[matched_indices]]).reset_index(drop=True)\n"
   ]
  },
  {
   "cell_type": "code",
   "execution_count": 200,
   "id": "32d8d5eb",
   "metadata": {},
   "outputs": [
    {
     "name": "stdout",
     "output_type": "stream",
     "text": [
      "treatment      propensity_score_balance_job  y            \n",
      "<class 'int'>  <class 'float'>               <class 'str'>    45211\n",
      "Name: count, dtype: int64\n"
     ]
    },
    {
     "name": "stderr",
     "output_type": "stream",
     "text": [
      "/var/folders/l4/t9jrg3810fj7mltqzxyw19sh0000gn/T/ipykernel_13046/1016939059.py:1: FutureWarning:\n",
      "\n",
      "DataFrame.applymap has been deprecated. Use DataFrame.map instead.\n",
      "\n"
     ]
    }
   ],
   "source": [
    "print(df[['treatment', 'propensity_score_balance_job', 'y']].applymap(type).value_counts())\n"
   ]
  },
  {
   "cell_type": "code",
   "execution_count": 201,
   "id": "e82884d6",
   "metadata": {},
   "outputs": [],
   "source": [
    "# Convert columns to numeric (forcing errors='coerce' will turn non-numeric values into NaN)\n",
    "df['treatment'] = pd.to_numeric(df['treatment'], errors='coerce')\n",
    "df['y'] = pd.to_numeric(df['y'], errors='coerce')\n",
    "df['propensity_score_balance_job'] = pd.to_numeric(df['propensity_score_balance_job'], errors='coerce')\n"
   ]
  },
  {
   "cell_type": "code",
   "execution_count": 202,
   "id": "9ba5bebe",
   "metadata": {},
   "outputs": [
    {
     "name": "stdout",
     "output_type": "stream",
     "text": [
      "age                                 0\n",
      "job                                 0\n",
      "marital                             0\n",
      "education                           0\n",
      "default                             0\n",
      "balance                             0\n",
      "housing                             0\n",
      "loan                                0\n",
      "contact                             0\n",
      "day                                 0\n",
      "month                               0\n",
      "duration                            0\n",
      "campaign                            0\n",
      "pdays                               0\n",
      "previous                            0\n",
      "poutcome                            0\n",
      "y                               45211\n",
      "treatment                           0\n",
      "propensity_score                    0\n",
      "balance_job_interaction             0\n",
      "propensity_score_balance_job        0\n",
      "job_grouped                         0\n",
      "propensity_score_rf                 0\n",
      "dtype: int64\n"
     ]
    }
   ],
   "source": [
    "print(df.isna().sum())  # Count missing values\n"
   ]
  },
  {
   "cell_type": "code",
   "execution_count": 203,
   "id": "a41e9bf2",
   "metadata": {},
   "outputs": [],
   "source": [
    "df = df.dropna(subset=['treatment', 'propensity_score_balance_job', 'y'])  # Remove missing rows\n"
   ]
  },
  {
   "cell_type": "code",
   "execution_count": 204,
   "id": "3414b796",
   "metadata": {},
   "outputs": [],
   "source": [
    "df.fillna(df.mean(), inplace=True)  # Replace NaNs with column mean\n"
   ]
  },
  {
   "cell_type": "code",
   "execution_count": 206,
   "id": "b263500c",
   "metadata": {},
   "outputs": [
    {
     "name": "stdout",
     "output_type": "stream",
     "text": [
      "count    0.0\n",
      "mean     NaN\n",
      "std      NaN\n",
      "min      NaN\n",
      "25%      NaN\n",
      "50%      NaN\n",
      "75%      NaN\n",
      "max      NaN\n",
      "Name: weights, dtype: float64\n"
     ]
    }
   ],
   "source": [
    "df['weights'] = df['treatment'] / df['propensity_score_balance_job'] + \\\n",
    "                (1 - df['treatment']) / (1 - df['propensity_score_balance_job'])\n",
    "\n",
    "print(df['weights'].describe())  # Check weight distribution\n"
   ]
  },
  {
   "cell_type": "code",
   "execution_count": 208,
   "id": "5ccc1a64",
   "metadata": {},
   "outputs": [],
   "source": [
    "df['y'] = df['y'].map({'yes': 1, 'no': 0}).astype(int)\n",
    "df_matched['y'] = df_matched['y'].map({'yes': 1, 'no': 0}).astype(int)\n"
   ]
  },
  {
   "cell_type": "code",
   "execution_count": 209,
   "id": "f66f9cf5",
   "metadata": {},
   "outputs": [
    {
     "name": "stdout",
     "output_type": "stream",
     "text": [
      "ATT (Using PSM): 0.12692511949017524\n"
     ]
    }
   ],
   "source": [
    "ATT_matched = df_matched[df_matched['treatment'] == 1]['y'].mean() - \\\n",
    "              df_matched[df_matched['treatment'] == 0]['y'].mean()\n",
    "print(\"ATT (Using PSM):\", ATT_matched)\n"
   ]
  },
  {
   "cell_type": "code",
   "execution_count": 212,
   "id": "1b3a580f",
   "metadata": {},
   "outputs": [
    {
     "name": "stdout",
     "output_type": "stream",
     "text": [
      "ATE Confidence Interval: (nan, nan)\n",
      "ATT Confidence Interval: (nan, nan)\n"
     ]
    },
    {
     "name": "stderr",
     "output_type": "stream",
     "text": [
      "/opt/anaconda3/lib/python3.11/site-packages/numpy/core/fromnumeric.py:3504: RuntimeWarning:\n",
      "\n",
      "Mean of empty slice.\n",
      "\n",
      "/opt/anaconda3/lib/python3.11/site-packages/numpy/core/_methods.py:129: RuntimeWarning:\n",
      "\n",
      "invalid value encountered in scalar divide\n",
      "\n"
     ]
    }
   ],
   "source": [
    "import numpy as np\n",
    "\n",
    "# Function to compute bootstrapped confidence intervals\n",
    "def bootstrap_ci(data, n_bootstrap=1000):\n",
    "    boot_means = [np.mean(np.random.choice(data, size=len(data), replace=True)) for _ in range(n_bootstrap)]\n",
    "    lower_bound = np.percentile(boot_means, 2.5)\n",
    "    upper_bound = np.percentile(boot_means, 97.5)\n",
    "    return lower_bound, upper_bound\n",
    "\n",
    "# Compute confidence intervals\n",
    "ate_ci = bootstrap_ci(df[df['treatment'] == 1]['y'] - df[df['treatment'] == 0]['y'])\n",
    "att_ci = bootstrap_ci(df_matched[df_matched['treatment'] == 1]['y'] - df_matched[df_matched['treatment'] == 0]['y'])\n",
    "\n",
    "print(f\"ATE Confidence Interval: {ate_ci}\")\n",
    "print(f\"ATT Confidence Interval: {att_ci}\")\n"
   ]
  },
  {
   "cell_type": "code",
   "execution_count": 213,
   "id": "cfa911a5",
   "metadata": {},
   "outputs": [
    {
     "data": {
      "image/png": "[encoded data removed]",
      "text/plain": [
       "<Figure size 1200x600 with 1 Axes>"
      ]
     },
     "metadata": {},
     "output_type": "display_data"
    },
    {
     "name": "stdout",
     "output_type": "stream",
     "text": [
      "     Job Type       ATT\n",
      "0  technician  0.111362\n",
      "2  management  0.110324\n",
      "1      admin.  0.027839\n"
     ]
    }
   ],
   "source": [
    "job_types = df_matched['job'].unique()\n",
    "\n",
    "# Dictionary to store ATT results\n",
    "att_results = {}\n",
    "\n",
    "for job in job_types:\n",
    "    df_job = df_matched[df_matched['job'] == job]\n",
    "    \n",
    "    if df_job['treatment'].nunique() < 2:  # Skip if all samples are either 0 or 1\n",
    "        continue\n",
    "    \n",
    "    ATT_job = df_job[df_job['treatment'] == 1]['y'].mean() - df_job[df_job['treatment'] == 0]['y'].mean()\n",
    "    att_results[job] = ATT_job\n",
    "\n",
    "# Convert results to DataFrame\n",
    "att_df = pd.DataFrame(list(att_results.items()), columns=['Job Type', 'ATT'])\n",
    "\n",
    "# Sort by ATT in descending order\n",
    "att_df = att_df.sort_values(by=\"ATT\", ascending=False)\n",
    "\n",
    "# Display ATT values per job type\n",
    "import matplotlib.pyplot as plt\n",
    "import seaborn as sns\n",
    "\n",
    "plt.figure(figsize=(12, 6))\n",
    "sns.barplot(data=att_df, x=\"ATT\", y=\"Job Type\", palette=\"Blues_r\")\n",
    "plt.title(\"ATT by Job Type (Effect of Balance on Subscription)\")\n",
    "plt.xlabel(\"ATT (Average Treatment Effect on the Treated)\")\n",
    "plt.ylabel(\"Job Type\")\n",
    "plt.show()\n",
    "\n",
    "# Print the table\n",
    "print(att_df)\n"
   ]
  },
  {
   "cell_type": "code",
   "execution_count": 224,
   "id": "af72f7a5",
   "metadata": {},
   "outputs": [
    {
     "name": "stdout",
     "output_type": "stream",
     "text": [
      "            Control Count  Treated Count\n",
      "job                                     \n",
      "admin.                 13            420\n",
      "management             22            796\n",
      "technician           1848            667\n"
     ]
    }
   ],
   "source": [
    "# Count number of treated & control samples per job type\n",
    "job_counts = df_matched.groupby(['job', 'treatment'])['y'].count().unstack().fillna(0)\n",
    "\n",
    "# Rename columns for clarity\n",
    "job_counts.columns = ['Control Count', 'Treated Count']\n",
    "\n",
    "# Display job counts\n",
    "print(job_counts)\n"
   ]
  },
  {
   "cell_type": "code",
   "execution_count": 228,
   "id": "f5d62838",
   "metadata": {},
   "outputs": [
    {
     "data": {
      "image/png": "[encoded data removed]",
      "text/plain": [
       "<Figure size 1200x600 with 1 Axes>"
      ]
     },
     "metadata": {},
     "output_type": "display_data"
    }
   ],
   "source": [
    "import seaborn as sns\n",
    "import matplotlib.pyplot as plt\n",
    "\n",
    "plt.figure(figsize=(12, 6))\n",
    "sns.barplot(x='Job Type', y='ATT', data=att_results, palette='viridis')\n",
    "plt.xticks(rotation=45)\n",
    "plt.title(\"ATT (Treatment Effect) Across Different Job Types\")\n",
    "plt.xlabel(\"Job Type\")\n",
    "plt.ylabel(\"ATT (Effect of Balance on Customer Response)\")\n",
    "plt.show()\n"
   ]
  },
  {
   "cell_type": "code",
   "execution_count": 227,
   "id": "2d9a4925",
   "metadata": {},
   "outputs": [
    {
     "name": "stdout",
     "output_type": "stream",
     "text": [
      "     Job Type       ATT\n",
      "0      admin.  0.027839\n",
      "1  management  0.110324\n",
      "2  technician  0.111362\n"
     ]
    }
   ],
   "source": [
    "import pandas as pd\n",
    "\n",
    "# Group by job type and compute ATT for each job\n",
    "att_results = df_matched.groupby('job').apply(\n",
    "    lambda x: x[x['treatment'] == 1]['y'].mean() - x[x['treatment'] == 0]['y'].mean()\n",
    ").reset_index()\n",
    "\n",
    "att_results.columns = ['Job Type', 'ATT']  # Rename columns\n",
    "print(att_results)\n"
   ]
  },
  {
   "cell_type": "code",
   "execution_count": 214,
   "id": "132cf683",
   "metadata": {},
   "outputs": [
    {
     "name": "stdout",
     "output_type": "stream",
     "text": [
      "y            45211\n",
      "treatment    45211\n",
      "dtype: int64\n",
      "y            0\n",
      "treatment    0\n",
      "dtype: int64\n",
      "0\n",
      "0\n"
     ]
    }
   ],
   "source": [
    "print(df[['y', 'treatment']].isna().sum())  # Count missing values\n",
    "print(df_matched[['y', 'treatment']].isna().sum())  # Count missing values in matched dataset\n",
    "\n",
    "print(df[df['treatment'] == 1]['y'].count())  # Check if treatment group has data\n",
    "print(df[df['treatment'] == 0]['y'].count())  # Check if control group has data\n"
   ]
  },
  {
   "cell_type": "code",
   "execution_count": 215,
   "id": "51a4c657",
   "metadata": {},
   "outputs": [],
   "source": [
    "df = df.dropna(subset=['y', 'treatment'])  # Remove missing values\n",
    "df_matched = df_matched.dropna(subset=['y', 'treatment'])\n"
   ]
  },
  {
   "cell_type": "code",
   "execution_count": 216,
   "id": "da9d0c07",
   "metadata": {},
   "outputs": [
    {
     "name": "stdout",
     "output_type": "stream",
     "text": [
      "ATE Confidence Interval: (nan, nan)\n",
      "ATT Confidence Interval: (0.11099309612320765, 0.14126394052044608)\n"
     ]
    },
    {
     "name": "stderr",
     "output_type": "stream",
     "text": [
      "/opt/anaconda3/lib/python3.11/site-packages/numpy/core/fromnumeric.py:3504: RuntimeWarning:\n",
      "\n",
      "Mean of empty slice.\n",
      "\n",
      "/opt/anaconda3/lib/python3.11/site-packages/numpy/core/_methods.py:129: RuntimeWarning:\n",
      "\n",
      "invalid value encountered in scalar divide\n",
      "\n"
     ]
    }
   ],
   "source": [
    "import numpy as np\n",
    "\n",
    "# Function to compute bootstrapped confidence intervals safely\n",
    "def bootstrap_ci(data_treated, data_control, n_bootstrap=1000):\n",
    "    boot_means = []\n",
    "    \n",
    "    for _ in range(n_bootstrap):\n",
    "        treated_sample = np.random.choice(data_treated, size=len(data_treated), replace=True)\n",
    "        control_sample = np.random.choice(data_control, size=len(data_control), replace=True)\n",
    "        boot_means.append(np.mean(treated_sample) - np.mean(control_sample))\n",
    "    \n",
    "    lower_bound = np.percentile(boot_means, 2.5)\n",
    "    upper_bound = np.percentile(boot_means, 97.5)\n",
    "    return lower_bound, upper_bound\n",
    "\n",
    "# Compute confidence intervals\n",
    "ate_ci = bootstrap_ci(df[df['treatment'] == 1]['y'].dropna(), df[df['treatment'] == 0]['y'].dropna())\n",
    "att_ci = bootstrap_ci(df_matched[df_matched['treatment'] == 1]['y'].dropna(), df_matched[df_matched['treatment'] == 0]['y'].dropna())\n",
    "\n",
    "print(f\"ATE Confidence Interval: {ate_ci}\")\n",
    "print(f\"ATT Confidence Interval: {att_ci}\")\n"
   ]
  },
  {
   "cell_type": "code",
   "execution_count": 217,
   "id": "f896e27b",
   "metadata": {},
   "outputs": [
    {
     "name": "stdout",
     "output_type": "stream",
     "text": [
      "Missing values in ATE calculation:\n",
      "y            0\n",
      "treatment    0\n",
      "dtype: int64\n"
     ]
    }
   ],
   "source": [
    "print(\"Missing values in ATE calculation:\")\n",
    "print(df[['y', 'treatment']].isna().sum())  # Check if y or treatment is missing\n"
   ]
  },
  {
   "cell_type": "code",
   "execution_count": 218,
   "id": "89ac0b64",
   "metadata": {},
   "outputs": [
    {
     "name": "stdout",
     "output_type": "stream",
     "text": [
      "Count of Treated and Control for ATE:\n",
      "Treated Count: 0\n",
      "Control Count: 0\n"
     ]
    }
   ],
   "source": [
    "print(\"Count of Treated and Control for ATE:\")\n",
    "print(\"Treated Count:\", df[df['treatment'] == 1]['y'].count())  # Should be >0\n",
    "print(\"Control Count:\", df[df['treatment'] == 0]['y'].count())  # Should be >0\n"
   ]
  },
  {
   "cell_type": "code",
   "execution_count": 219,
   "id": "7ce04870",
   "metadata": {},
   "outputs": [],
   "source": [
    "df = df.dropna(subset=['y', 'treatment'])  # Remove NaN values\n"
   ]
  },
  {
   "cell_type": "code",
   "execution_count": 220,
   "id": "80c2d86e",
   "metadata": {},
   "outputs": [
    {
     "name": "stdout",
     "output_type": "stream",
     "text": [
      "ATE Confidence Interval: (nan, nan)\n",
      "ATT Confidence Interval: (0.11152416356877323, 0.14232607541157727)\n"
     ]
    }
   ],
   "source": [
    "import numpy as np\n",
    "\n",
    "# Function to compute bootstrapped confidence intervals safely\n",
    "def bootstrap_ci(data_treated, data_control, n_bootstrap=1000):\n",
    "    if len(data_treated) == 0 or len(data_control) == 0:\n",
    "        return (np.nan, np.nan)  # Return NaN if either group is empty\n",
    "    \n",
    "    boot_means = []\n",
    "    for _ in range(n_bootstrap):\n",
    "        treated_sample = np.random.choice(data_treated, size=len(data_treated), replace=True)\n",
    "        control_sample = np.random.choice(data_control, size=len(data_control), replace=True)\n",
    "        boot_means.append(np.mean(treated_sample) - np.mean(control_sample))\n",
    "    \n",
    "    lower_bound = np.percentile(boot_means, 2.5)\n",
    "    upper_bound = np.percentile(boot_means, 97.5)\n",
    "    return lower_bound, upper_bound\n",
    "\n",
    "# Compute confidence intervals safely\n",
    "ate_ci = bootstrap_ci(df[df['treatment'] == 1]['y'].dropna(), df[df['treatment'] == 0]['y'].dropna())\n",
    "att_ci = bootstrap_ci(df_matched[df_matched['treatment'] == 1]['y'].dropna(), df_matched[df_matched['treatment'] == 0]['y'].dropna())\n",
    "\n",
    "print(f\"ATE Confidence Interval: {ate_ci}\")\n",
    "print(f\"ATT Confidence Interval: {att_ci}\")\n"
   ]
  },
  {
   "cell_type": "code",
   "execution_count": 221,
   "id": "89e63e2f",
   "metadata": {},
   "outputs": [
    {
     "name": "stdout",
     "output_type": "stream",
     "text": [
      "Count of Treated and Control for ATE:\n",
      "Treated Count: 0\n",
      "Control Count: 0\n"
     ]
    }
   ],
   "source": [
    "print(\"Count of Treated and Control for ATE:\")\n",
    "print(\"Treated Count:\", df[df['treatment'] == 1]['y'].count())  # Should be >0\n",
    "print(\"Control Count:\", df[df['treatment'] == 0]['y'].count())  # Should be >0\n"
   ]
  },
  {
   "cell_type": "code",
   "execution_count": 222,
   "id": "5b747310",
   "metadata": {},
   "outputs": [],
   "source": [
    "# Example: Include more job types or lower balance threshold\n",
    "df['treatment'] = ((df['balance'] >= df['balance'].median()) & (df['job'].isin(['admin.', 'management', 'technician']))).astype(int)\n"
   ]
  },
  {
   "cell_type": "code",
   "execution_count": 223,
   "id": "81449913",
   "metadata": {},
   "outputs": [
    {
     "name": "stdout",
     "output_type": "stream",
     "text": [
      "ATE Confidence Interval: (nan, nan)\n",
      "ATT Confidence Interval: (0.11152416356877323, 0.1417950079660117)\n"
     ]
    }
   ],
   "source": [
    "import numpy as np\n",
    "\n",
    "# Function to compute bootstrapped confidence intervals safely\n",
    "def bootstrap_ci(data_treated, data_control, n_bootstrap=1000):\n",
    "    if len(data_treated) == 0 or len(data_control) == 0:\n",
    "        return (np.nan, np.nan)  # Return NaN if either group is empty\n",
    "    \n",
    "    boot_means = []\n",
    "    for _ in range(n_bootstrap):\n",
    "        treated_sample = np.random.choice(data_treated, size=len(data_treated), replace=True)\n",
    "        control_sample = np.random.choice(data_control, size=len(data_control), replace=True)\n",
    "        boot_means.append(np.mean(treated_sample) - np.mean(control_sample))\n",
    "    \n",
    "    lower_bound = np.percentile(boot_means, 2.5)\n",
    "    upper_bound = np.percentile(boot_means, 97.5)\n",
    "    return lower_bound, upper_bound\n",
    "\n",
    "# Compute confidence intervals safely\n",
    "ate_ci = bootstrap_ci(df[df['treatment'] == 1]['y'].dropna(), df[df['treatment'] == 0]['y'].dropna())\n",
    "att_ci = bootstrap_ci(df_matched[df_matched['treatment'] == 1]['y'].dropna(), df_matched[df_matched['treatment'] == 0]['y'].dropna())\n",
    "\n",
    "print(f\"ATE Confidence Interval: {ate_ci}\")\n",
    "print(f\"ATT Confidence Interval: {att_ci}\")\n"
   ]
  },
  {
   "cell_type": "code",
   "execution_count": null,
   "id": "e281f5ae",
   "metadata": {},
   "outputs": [],
   "source": []
  }
 ],
 "metadata": {
  "kernelspec": {
   "display_name": "base",
   "language": "python",
   "name": "python3"
  },
  "language_info": {
   "codemirror_mode": {
    "name": "ipython",
    "version": 3
   },
   "file_extension": ".py",
   "mimetype": "text/x-python",
   "name": "python",
   "nbconvert_exporter": "python",
   "pygments_lexer": "ipython3",
   "version": "3.11.7"
  },
  "vscode": {
   "interpreter": {
    "hash": "40d3a090f54c6569ab1632332b64b2c03c39dcf918b08424e98f38b5ae0af88f"
   }
  }
 },
 "nbformat": 4,
 "nbformat_minor": 5
}
